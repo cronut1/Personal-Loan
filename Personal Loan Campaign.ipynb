{
 "cells": [
  {
   "cell_type": "code",
   "execution_count": 2,
   "metadata": {},
   "outputs": [],
   "source": [
    "# Importing required libraries\n",
    "import pandas as pd\n",
    "import numpy as np\n",
    "import matplotlib.pyplot as plt\n",
    "%matplotlib inline\n",
    "import seaborn as sns\n",
    "pd.options.display.max_columns=None\n",
    "import warnings\n",
    "warnings.filterwarnings('ignore')"
   ]
  },
  {
   "cell_type": "code",
   "execution_count": 3,
   "metadata": {},
   "outputs": [],
   "source": [
    "# Read the data\n",
    "data = pd.read_csv(\"D:\\\\Data\\\\bank.csv\")"
   ]
  },
  {
   "cell_type": "code",
   "execution_count": 4,
   "metadata": {
    "scrolled": true
   },
   "outputs": [
    {
     "name": "stdout",
     "output_type": "stream",
     "text": [
      "(20000, 40)\n"
     ]
    },
    {
     "data": {
      "text/html": [
       "<div>\n",
       "<style scoped>\n",
       "    .dataframe tbody tr th:only-of-type {\n",
       "        vertical-align: middle;\n",
       "    }\n",
       "\n",
       "    .dataframe tbody tr th {\n",
       "        vertical-align: top;\n",
       "    }\n",
       "\n",
       "    .dataframe thead th {\n",
       "        text-align: right;\n",
       "    }\n",
       "</style>\n",
       "<table border=\"1\" class=\"dataframe\">\n",
       "  <thead>\n",
       "    <tr style=\"text-align: right;\">\n",
       "      <th></th>\n",
       "      <th>CUST_ID</th>\n",
       "      <th>TARGET</th>\n",
       "      <th>AGE</th>\n",
       "      <th>GENDER</th>\n",
       "      <th>BALANCE</th>\n",
       "      <th>OCCUPATION</th>\n",
       "      <th>AGE_BKT</th>\n",
       "      <th>SCR</th>\n",
       "      <th>HOLDING_PERIOD</th>\n",
       "      <th>ACC_TYPE</th>\n",
       "      <th>ACC_OP_DATE</th>\n",
       "      <th>LEN_OF_RLTN_IN_MNTH</th>\n",
       "      <th>NO_OF_L_CR_TXNS</th>\n",
       "      <th>NO_OF_L_DR_TXNS</th>\n",
       "      <th>TOT_NO_OF_L_TXNS</th>\n",
       "      <th>NO_OF_BR_CSH_WDL_DR_TXNS</th>\n",
       "      <th>NO_OF_ATM_DR_TXNS</th>\n",
       "      <th>NO_OF_NET_DR_TXNS</th>\n",
       "      <th>NO_OF_MOB_DR_TXNS</th>\n",
       "      <th>NO_OF_CHQ_DR_TXNS</th>\n",
       "      <th>FLG_HAS_CC</th>\n",
       "      <th>AMT_ATM_DR</th>\n",
       "      <th>AMT_BR_CSH_WDL_DR</th>\n",
       "      <th>AMT_CHQ_DR</th>\n",
       "      <th>AMT_NET_DR</th>\n",
       "      <th>AMT_MOB_DR</th>\n",
       "      <th>AMT_L_DR</th>\n",
       "      <th>FLG_HAS_ANY_CHGS</th>\n",
       "      <th>AMT_OTH_BK_ATM_USG_CHGS</th>\n",
       "      <th>AMT_MIN_BAL_NMC_CHGS</th>\n",
       "      <th>NO_OF_IW_CHQ_BNC_TXNS</th>\n",
       "      <th>NO_OF_OW_CHQ_BNC_TXNS</th>\n",
       "      <th>AVG_AMT_PER_ATM_TXN</th>\n",
       "      <th>AVG_AMT_PER_CSH_WDL_TXN</th>\n",
       "      <th>AVG_AMT_PER_CHQ_TXN</th>\n",
       "      <th>AVG_AMT_PER_NET_TXN</th>\n",
       "      <th>AVG_AMT_PER_MOB_TXN</th>\n",
       "      <th>FLG_HAS_NOMINEE</th>\n",
       "      <th>FLG_HAS_OLD_LOAN</th>\n",
       "      <th>random</th>\n",
       "    </tr>\n",
       "  </thead>\n",
       "  <tbody>\n",
       "    <tr>\n",
       "      <th>0</th>\n",
       "      <td>C7927</td>\n",
       "      <td>0</td>\n",
       "      <td>27</td>\n",
       "      <td>M</td>\n",
       "      <td>3383.75</td>\n",
       "      <td>SELF-EMP</td>\n",
       "      <td>26-30</td>\n",
       "      <td>776</td>\n",
       "      <td>30</td>\n",
       "      <td>SA</td>\n",
       "      <td>3/23/2005</td>\n",
       "      <td>146</td>\n",
       "      <td>7</td>\n",
       "      <td>3</td>\n",
       "      <td>10</td>\n",
       "      <td>0</td>\n",
       "      <td>1</td>\n",
       "      <td>2</td>\n",
       "      <td>0</td>\n",
       "      <td>0</td>\n",
       "      <td>0</td>\n",
       "      <td>13100</td>\n",
       "      <td>0</td>\n",
       "      <td>0</td>\n",
       "      <td>973557.0</td>\n",
       "      <td>0</td>\n",
       "      <td>986657.0</td>\n",
       "      <td>0</td>\n",
       "      <td>0</td>\n",
       "      <td>0</td>\n",
       "      <td>0</td>\n",
       "      <td>0</td>\n",
       "      <td>13100.0</td>\n",
       "      <td>0.0</td>\n",
       "      <td>0.0</td>\n",
       "      <td>486778.50</td>\n",
       "      <td>0.0</td>\n",
       "      <td>1</td>\n",
       "      <td>1</td>\n",
       "      <td>0.000011</td>\n",
       "    </tr>\n",
       "    <tr>\n",
       "      <th>1</th>\n",
       "      <td>C6877</td>\n",
       "      <td>0</td>\n",
       "      <td>47</td>\n",
       "      <td>M</td>\n",
       "      <td>287489.04</td>\n",
       "      <td>SAL</td>\n",
       "      <td>46-50</td>\n",
       "      <td>324</td>\n",
       "      <td>28</td>\n",
       "      <td>SA</td>\n",
       "      <td>10/11/08</td>\n",
       "      <td>104</td>\n",
       "      <td>8</td>\n",
       "      <td>2</td>\n",
       "      <td>10</td>\n",
       "      <td>0</td>\n",
       "      <td>1</td>\n",
       "      <td>1</td>\n",
       "      <td>0</td>\n",
       "      <td>0</td>\n",
       "      <td>0</td>\n",
       "      <td>6600</td>\n",
       "      <td>0</td>\n",
       "      <td>0</td>\n",
       "      <td>799813.0</td>\n",
       "      <td>0</td>\n",
       "      <td>806413.0</td>\n",
       "      <td>1</td>\n",
       "      <td>0</td>\n",
       "      <td>0</td>\n",
       "      <td>0</td>\n",
       "      <td>0</td>\n",
       "      <td>6600.0</td>\n",
       "      <td>0.0</td>\n",
       "      <td>0.0</td>\n",
       "      <td>799813.00</td>\n",
       "      <td>0.0</td>\n",
       "      <td>1</td>\n",
       "      <td>0</td>\n",
       "      <td>0.000111</td>\n",
       "    </tr>\n",
       "    <tr>\n",
       "      <th>2</th>\n",
       "      <td>C19922</td>\n",
       "      <td>0</td>\n",
       "      <td>40</td>\n",
       "      <td>M</td>\n",
       "      <td>18216.88</td>\n",
       "      <td>SELF-EMP</td>\n",
       "      <td>36-40</td>\n",
       "      <td>603</td>\n",
       "      <td>2</td>\n",
       "      <td>SA</td>\n",
       "      <td>4/26/2012</td>\n",
       "      <td>61</td>\n",
       "      <td>10</td>\n",
       "      <td>5</td>\n",
       "      <td>15</td>\n",
       "      <td>1</td>\n",
       "      <td>1</td>\n",
       "      <td>1</td>\n",
       "      <td>0</td>\n",
       "      <td>2</td>\n",
       "      <td>0</td>\n",
       "      <td>11200</td>\n",
       "      <td>561120</td>\n",
       "      <td>49320</td>\n",
       "      <td>997570.0</td>\n",
       "      <td>0</td>\n",
       "      <td>1619210.0</td>\n",
       "      <td>1</td>\n",
       "      <td>0</td>\n",
       "      <td>0</td>\n",
       "      <td>0</td>\n",
       "      <td>1</td>\n",
       "      <td>11200.0</td>\n",
       "      <td>561120.0</td>\n",
       "      <td>24660.0</td>\n",
       "      <td>997570.00</td>\n",
       "      <td>0.0</td>\n",
       "      <td>1</td>\n",
       "      <td>1</td>\n",
       "      <td>0.000120</td>\n",
       "    </tr>\n",
       "    <tr>\n",
       "      <th>3</th>\n",
       "      <td>C8183</td>\n",
       "      <td>0</td>\n",
       "      <td>53</td>\n",
       "      <td>M</td>\n",
       "      <td>71720.48</td>\n",
       "      <td>SAL</td>\n",
       "      <td>&gt;50</td>\n",
       "      <td>196</td>\n",
       "      <td>13</td>\n",
       "      <td>CA</td>\n",
       "      <td>07/04/08</td>\n",
       "      <td>107</td>\n",
       "      <td>36</td>\n",
       "      <td>14</td>\n",
       "      <td>50</td>\n",
       "      <td>4</td>\n",
       "      <td>2</td>\n",
       "      <td>3</td>\n",
       "      <td>1</td>\n",
       "      <td>4</td>\n",
       "      <td>0</td>\n",
       "      <td>26100</td>\n",
       "      <td>673590</td>\n",
       "      <td>60780</td>\n",
       "      <td>741506.0</td>\n",
       "      <td>71388</td>\n",
       "      <td>1573364.0</td>\n",
       "      <td>0</td>\n",
       "      <td>0</td>\n",
       "      <td>0</td>\n",
       "      <td>0</td>\n",
       "      <td>0</td>\n",
       "      <td>13050.0</td>\n",
       "      <td>168397.5</td>\n",
       "      <td>15195.0</td>\n",
       "      <td>247168.67</td>\n",
       "      <td>71388.0</td>\n",
       "      <td>1</td>\n",
       "      <td>0</td>\n",
       "      <td>0.000137</td>\n",
       "    </tr>\n",
       "    <tr>\n",
       "      <th>4</th>\n",
       "      <td>C12123</td>\n",
       "      <td>0</td>\n",
       "      <td>36</td>\n",
       "      <td>M</td>\n",
       "      <td>1671622.89</td>\n",
       "      <td>PROF</td>\n",
       "      <td>36-40</td>\n",
       "      <td>167</td>\n",
       "      <td>24</td>\n",
       "      <td>SA</td>\n",
       "      <td>12/29/2001</td>\n",
       "      <td>185</td>\n",
       "      <td>20</td>\n",
       "      <td>1</td>\n",
       "      <td>21</td>\n",
       "      <td>1</td>\n",
       "      <td>0</td>\n",
       "      <td>0</td>\n",
       "      <td>0</td>\n",
       "      <td>0</td>\n",
       "      <td>0</td>\n",
       "      <td>0</td>\n",
       "      <td>808480</td>\n",
       "      <td>0</td>\n",
       "      <td>0.0</td>\n",
       "      <td>0</td>\n",
       "      <td>808480.0</td>\n",
       "      <td>0</td>\n",
       "      <td>0</td>\n",
       "      <td>0</td>\n",
       "      <td>0</td>\n",
       "      <td>0</td>\n",
       "      <td>0.0</td>\n",
       "      <td>808480.0</td>\n",
       "      <td>0.0</td>\n",
       "      <td>0.00</td>\n",
       "      <td>0.0</td>\n",
       "      <td>1</td>\n",
       "      <td>0</td>\n",
       "      <td>0.000174</td>\n",
       "    </tr>\n",
       "  </tbody>\n",
       "</table>\n",
       "</div>"
      ],
      "text/plain": [
       "  CUST_ID  TARGET  AGE GENDER     BALANCE OCCUPATION AGE_BKT  SCR  \\\n",
       "0   C7927       0   27      M     3383.75   SELF-EMP   26-30  776   \n",
       "1   C6877       0   47      M   287489.04        SAL   46-50  324   \n",
       "2  C19922       0   40      M    18216.88   SELF-EMP   36-40  603   \n",
       "3   C8183       0   53      M    71720.48        SAL     >50  196   \n",
       "4  C12123       0   36      M  1671622.89       PROF   36-40  167   \n",
       "\n",
       "   HOLDING_PERIOD ACC_TYPE ACC_OP_DATE  LEN_OF_RLTN_IN_MNTH  NO_OF_L_CR_TXNS  \\\n",
       "0              30       SA   3/23/2005                  146                7   \n",
       "1              28       SA    10/11/08                  104                8   \n",
       "2               2       SA   4/26/2012                   61               10   \n",
       "3              13       CA    07/04/08                  107               36   \n",
       "4              24       SA  12/29/2001                  185               20   \n",
       "\n",
       "   NO_OF_L_DR_TXNS  TOT_NO_OF_L_TXNS  NO_OF_BR_CSH_WDL_DR_TXNS  \\\n",
       "0                3                10                         0   \n",
       "1                2                10                         0   \n",
       "2                5                15                         1   \n",
       "3               14                50                         4   \n",
       "4                1                21                         1   \n",
       "\n",
       "   NO_OF_ATM_DR_TXNS  NO_OF_NET_DR_TXNS  NO_OF_MOB_DR_TXNS  NO_OF_CHQ_DR_TXNS  \\\n",
       "0                  1                  2                  0                  0   \n",
       "1                  1                  1                  0                  0   \n",
       "2                  1                  1                  0                  2   \n",
       "3                  2                  3                  1                  4   \n",
       "4                  0                  0                  0                  0   \n",
       "\n",
       "   FLG_HAS_CC  AMT_ATM_DR  AMT_BR_CSH_WDL_DR  AMT_CHQ_DR  AMT_NET_DR  \\\n",
       "0           0       13100                  0           0    973557.0   \n",
       "1           0        6600                  0           0    799813.0   \n",
       "2           0       11200             561120       49320    997570.0   \n",
       "3           0       26100             673590       60780    741506.0   \n",
       "4           0           0             808480           0         0.0   \n",
       "\n",
       "   AMT_MOB_DR   AMT_L_DR  FLG_HAS_ANY_CHGS  AMT_OTH_BK_ATM_USG_CHGS  \\\n",
       "0           0   986657.0                 0                        0   \n",
       "1           0   806413.0                 1                        0   \n",
       "2           0  1619210.0                 1                        0   \n",
       "3       71388  1573364.0                 0                        0   \n",
       "4           0   808480.0                 0                        0   \n",
       "\n",
       "   AMT_MIN_BAL_NMC_CHGS  NO_OF_IW_CHQ_BNC_TXNS  NO_OF_OW_CHQ_BNC_TXNS  \\\n",
       "0                     0                      0                      0   \n",
       "1                     0                      0                      0   \n",
       "2                     0                      0                      1   \n",
       "3                     0                      0                      0   \n",
       "4                     0                      0                      0   \n",
       "\n",
       "   AVG_AMT_PER_ATM_TXN  AVG_AMT_PER_CSH_WDL_TXN  AVG_AMT_PER_CHQ_TXN  \\\n",
       "0              13100.0                      0.0                  0.0   \n",
       "1               6600.0                      0.0                  0.0   \n",
       "2              11200.0                 561120.0              24660.0   \n",
       "3              13050.0                 168397.5              15195.0   \n",
       "4                  0.0                 808480.0                  0.0   \n",
       "\n",
       "   AVG_AMT_PER_NET_TXN  AVG_AMT_PER_MOB_TXN  FLG_HAS_NOMINEE  \\\n",
       "0            486778.50                  0.0                1   \n",
       "1            799813.00                  0.0                1   \n",
       "2            997570.00                  0.0                1   \n",
       "3            247168.67              71388.0                1   \n",
       "4                 0.00                  0.0                1   \n",
       "\n",
       "   FLG_HAS_OLD_LOAN    random  \n",
       "0                 1  0.000011  \n",
       "1                 0  0.000111  \n",
       "2                 1  0.000120  \n",
       "3                 0  0.000137  \n",
       "4                 0  0.000174  "
      ]
     },
     "execution_count": 4,
     "metadata": {},
     "output_type": "execute_result"
    }
   ],
   "source": [
    "# Check theshape\n",
    "print(data.shape)\n",
    "data.head()"
   ]
  },
  {
   "cell_type": "code",
   "execution_count": 5,
   "metadata": {},
   "outputs": [
    {
     "data": {
      "text/plain": [
       "0"
      ]
     },
     "execution_count": 5,
     "metadata": {},
     "output_type": "execute_result"
    }
   ],
   "source": [
    "# Checking missing values\n",
    "data.isnull().any().sum()"
   ]
  },
  {
   "cell_type": "markdown",
   "metadata": {},
   "source": [
    "There is no missing values in our data"
   ]
  },
  {
   "cell_type": "code",
   "execution_count": 6,
   "metadata": {},
   "outputs": [
    {
     "data": {
      "text/html": [
       "<div>\n",
       "<style scoped>\n",
       "    .dataframe tbody tr th:only-of-type {\n",
       "        vertical-align: middle;\n",
       "    }\n",
       "\n",
       "    .dataframe tbody tr th {\n",
       "        vertical-align: top;\n",
       "    }\n",
       "\n",
       "    .dataframe thead th {\n",
       "        text-align: right;\n",
       "    }\n",
       "</style>\n",
       "<table border=\"1\" class=\"dataframe\">\n",
       "  <thead>\n",
       "    <tr style=\"text-align: right;\">\n",
       "      <th></th>\n",
       "      <th>count</th>\n",
       "      <th>mean</th>\n",
       "      <th>std</th>\n",
       "      <th>min</th>\n",
       "      <th>25%</th>\n",
       "      <th>50%</th>\n",
       "      <th>75%</th>\n",
       "      <th>max</th>\n",
       "    </tr>\n",
       "  </thead>\n",
       "  <tbody>\n",
       "    <tr>\n",
       "      <th>TARGET</th>\n",
       "      <td>20000.0</td>\n",
       "      <td>0.125600</td>\n",
       "      <td>0.331406</td>\n",
       "      <td>0.000000</td>\n",
       "      <td>0.000000</td>\n",
       "      <td>0.000000</td>\n",
       "      <td>0.000000e+00</td>\n",
       "      <td>1.000000e+00</td>\n",
       "    </tr>\n",
       "    <tr>\n",
       "      <th>AGE</th>\n",
       "      <td>20000.0</td>\n",
       "      <td>38.418150</td>\n",
       "      <td>9.577985</td>\n",
       "      <td>21.000000</td>\n",
       "      <td>30.000000</td>\n",
       "      <td>38.000000</td>\n",
       "      <td>4.600000e+01</td>\n",
       "      <td>5.500000e+01</td>\n",
       "    </tr>\n",
       "    <tr>\n",
       "      <th>BALANCE</th>\n",
       "      <td>20000.0</td>\n",
       "      <td>511362.192118</td>\n",
       "      <td>723592.961792</td>\n",
       "      <td>0.000000</td>\n",
       "      <td>64754.025000</td>\n",
       "      <td>231675.845000</td>\n",
       "      <td>6.538768e+05</td>\n",
       "      <td>8.360431e+06</td>\n",
       "    </tr>\n",
       "    <tr>\n",
       "      <th>SCR</th>\n",
       "      <td>20000.0</td>\n",
       "      <td>440.150300</td>\n",
       "      <td>249.887582</td>\n",
       "      <td>100.000000</td>\n",
       "      <td>227.000000</td>\n",
       "      <td>364.000000</td>\n",
       "      <td>6.440000e+02</td>\n",
       "      <td>9.990000e+02</td>\n",
       "    </tr>\n",
       "    <tr>\n",
       "      <th>HOLDING_PERIOD</th>\n",
       "      <td>20000.0</td>\n",
       "      <td>14.955650</td>\n",
       "      <td>8.642634</td>\n",
       "      <td>1.000000</td>\n",
       "      <td>7.000000</td>\n",
       "      <td>15.000000</td>\n",
       "      <td>2.200000e+01</td>\n",
       "      <td>3.100000e+01</td>\n",
       "    </tr>\n",
       "    <tr>\n",
       "      <th>LEN_OF_RLTN_IN_MNTH</th>\n",
       "      <td>20000.0</td>\n",
       "      <td>125.239300</td>\n",
       "      <td>54.953936</td>\n",
       "      <td>29.000000</td>\n",
       "      <td>79.000000</td>\n",
       "      <td>125.000000</td>\n",
       "      <td>1.720000e+02</td>\n",
       "      <td>2.210000e+02</td>\n",
       "    </tr>\n",
       "    <tr>\n",
       "      <th>NO_OF_L_CR_TXNS</th>\n",
       "      <td>20000.0</td>\n",
       "      <td>12.348050</td>\n",
       "      <td>12.151921</td>\n",
       "      <td>0.000000</td>\n",
       "      <td>6.000000</td>\n",
       "      <td>10.000000</td>\n",
       "      <td>1.400000e+01</td>\n",
       "      <td>7.500000e+01</td>\n",
       "    </tr>\n",
       "    <tr>\n",
       "      <th>NO_OF_L_DR_TXNS</th>\n",
       "      <td>20000.0</td>\n",
       "      <td>6.633700</td>\n",
       "      <td>7.675830</td>\n",
       "      <td>0.000000</td>\n",
       "      <td>2.000000</td>\n",
       "      <td>5.000000</td>\n",
       "      <td>7.000000e+00</td>\n",
       "      <td>7.400000e+01</td>\n",
       "    </tr>\n",
       "    <tr>\n",
       "      <th>TOT_NO_OF_L_TXNS</th>\n",
       "      <td>20000.0</td>\n",
       "      <td>18.975400</td>\n",
       "      <td>17.759290</td>\n",
       "      <td>0.000000</td>\n",
       "      <td>9.000000</td>\n",
       "      <td>14.000000</td>\n",
       "      <td>2.100000e+01</td>\n",
       "      <td>1.490000e+02</td>\n",
       "    </tr>\n",
       "    <tr>\n",
       "      <th>NO_OF_BR_CSH_WDL_DR_TXNS</th>\n",
       "      <td>20000.0</td>\n",
       "      <td>1.883000</td>\n",
       "      <td>2.263596</td>\n",
       "      <td>0.000000</td>\n",
       "      <td>1.000000</td>\n",
       "      <td>1.000000</td>\n",
       "      <td>2.000000e+00</td>\n",
       "      <td>1.500000e+01</td>\n",
       "    </tr>\n",
       "    <tr>\n",
       "      <th>NO_OF_ATM_DR_TXNS</th>\n",
       "      <td>20000.0</td>\n",
       "      <td>1.028950</td>\n",
       "      <td>1.497239</td>\n",
       "      <td>0.000000</td>\n",
       "      <td>0.000000</td>\n",
       "      <td>1.000000</td>\n",
       "      <td>1.000000e+00</td>\n",
       "      <td>2.500000e+01</td>\n",
       "    </tr>\n",
       "    <tr>\n",
       "      <th>NO_OF_NET_DR_TXNS</th>\n",
       "      <td>20000.0</td>\n",
       "      <td>1.172450</td>\n",
       "      <td>2.404246</td>\n",
       "      <td>0.000000</td>\n",
       "      <td>0.000000</td>\n",
       "      <td>0.000000</td>\n",
       "      <td>1.000000e+00</td>\n",
       "      <td>2.200000e+01</td>\n",
       "    </tr>\n",
       "    <tr>\n",
       "      <th>NO_OF_MOB_DR_TXNS</th>\n",
       "      <td>20000.0</td>\n",
       "      <td>0.411750</td>\n",
       "      <td>2.009854</td>\n",
       "      <td>0.000000</td>\n",
       "      <td>0.000000</td>\n",
       "      <td>0.000000</td>\n",
       "      <td>0.000000e+00</td>\n",
       "      <td>2.500000e+01</td>\n",
       "    </tr>\n",
       "    <tr>\n",
       "      <th>NO_OF_CHQ_DR_TXNS</th>\n",
       "      <td>20000.0</td>\n",
       "      <td>2.137550</td>\n",
       "      <td>2.384893</td>\n",
       "      <td>0.000000</td>\n",
       "      <td>0.000000</td>\n",
       "      <td>2.000000</td>\n",
       "      <td>4.000000e+00</td>\n",
       "      <td>1.500000e+01</td>\n",
       "    </tr>\n",
       "    <tr>\n",
       "      <th>FLG_HAS_CC</th>\n",
       "      <td>20000.0</td>\n",
       "      <td>0.305400</td>\n",
       "      <td>0.460588</td>\n",
       "      <td>0.000000</td>\n",
       "      <td>0.000000</td>\n",
       "      <td>0.000000</td>\n",
       "      <td>1.000000e+00</td>\n",
       "      <td>1.000000e+00</td>\n",
       "    </tr>\n",
       "    <tr>\n",
       "      <th>AMT_ATM_DR</th>\n",
       "      <td>20000.0</td>\n",
       "      <td>10990.015000</td>\n",
       "      <td>15304.891499</td>\n",
       "      <td>0.000000</td>\n",
       "      <td>0.000000</td>\n",
       "      <td>6900.000000</td>\n",
       "      <td>1.580000e+04</td>\n",
       "      <td>1.993000e+05</td>\n",
       "    </tr>\n",
       "    <tr>\n",
       "      <th>AMT_BR_CSH_WDL_DR</th>\n",
       "      <td>20000.0</td>\n",
       "      <td>378474.478000</td>\n",
       "      <td>331417.730129</td>\n",
       "      <td>0.000000</td>\n",
       "      <td>2990.000000</td>\n",
       "      <td>340150.000000</td>\n",
       "      <td>6.746750e+05</td>\n",
       "      <td>9.999300e+05</td>\n",
       "    </tr>\n",
       "    <tr>\n",
       "      <th>AMT_CHQ_DR</th>\n",
       "      <td>20000.0</td>\n",
       "      <td>124520.005150</td>\n",
       "      <td>439379.541425</td>\n",
       "      <td>0.000000</td>\n",
       "      <td>0.000000</td>\n",
       "      <td>23840.000000</td>\n",
       "      <td>7.247000e+04</td>\n",
       "      <td>4.928640e+06</td>\n",
       "    </tr>\n",
       "    <tr>\n",
       "      <th>AMT_NET_DR</th>\n",
       "      <td>20000.0</td>\n",
       "      <td>237307.771646</td>\n",
       "      <td>319067.664858</td>\n",
       "      <td>0.000000</td>\n",
       "      <td>0.000000</td>\n",
       "      <td>0.000000</td>\n",
       "      <td>4.739705e+05</td>\n",
       "      <td>9.998540e+05</td>\n",
       "    </tr>\n",
       "    <tr>\n",
       "      <th>AMT_MOB_DR</th>\n",
       "      <td>20000.0</td>\n",
       "      <td>22424.704400</td>\n",
       "      <td>49484.803631</td>\n",
       "      <td>0.000000</td>\n",
       "      <td>0.000000</td>\n",
       "      <td>0.000000</td>\n",
       "      <td>0.000000e+00</td>\n",
       "      <td>1.996670e+05</td>\n",
       "    </tr>\n",
       "    <tr>\n",
       "      <th>AMT_L_DR</th>\n",
       "      <td>20000.0</td>\n",
       "      <td>773716.974195</td>\n",
       "      <td>712659.173217</td>\n",
       "      <td>0.000000</td>\n",
       "      <td>237935.500000</td>\n",
       "      <td>695115.000000</td>\n",
       "      <td>1.078927e+06</td>\n",
       "      <td>6.514921e+06</td>\n",
       "    </tr>\n",
       "    <tr>\n",
       "      <th>FLG_HAS_ANY_CHGS</th>\n",
       "      <td>20000.0</td>\n",
       "      <td>0.110600</td>\n",
       "      <td>0.313644</td>\n",
       "      <td>0.000000</td>\n",
       "      <td>0.000000</td>\n",
       "      <td>0.000000</td>\n",
       "      <td>0.000000e+00</td>\n",
       "      <td>1.000000e+00</td>\n",
       "    </tr>\n",
       "    <tr>\n",
       "      <th>AMT_OTH_BK_ATM_USG_CHGS</th>\n",
       "      <td>20000.0</td>\n",
       "      <td>1.099500</td>\n",
       "      <td>14.219220</td>\n",
       "      <td>0.000000</td>\n",
       "      <td>0.000000</td>\n",
       "      <td>0.000000</td>\n",
       "      <td>0.000000e+00</td>\n",
       "      <td>2.500000e+02</td>\n",
       "    </tr>\n",
       "    <tr>\n",
       "      <th>AMT_MIN_BAL_NMC_CHGS</th>\n",
       "      <td>20000.0</td>\n",
       "      <td>1.292000</td>\n",
       "      <td>14.764201</td>\n",
       "      <td>0.000000</td>\n",
       "      <td>0.000000</td>\n",
       "      <td>0.000000</td>\n",
       "      <td>0.000000e+00</td>\n",
       "      <td>1.700000e+02</td>\n",
       "    </tr>\n",
       "    <tr>\n",
       "      <th>NO_OF_IW_CHQ_BNC_TXNS</th>\n",
       "      <td>20000.0</td>\n",
       "      <td>0.042750</td>\n",
       "      <td>0.203038</td>\n",
       "      <td>0.000000</td>\n",
       "      <td>0.000000</td>\n",
       "      <td>0.000000</td>\n",
       "      <td>0.000000e+00</td>\n",
       "      <td>2.000000e+00</td>\n",
       "    </tr>\n",
       "    <tr>\n",
       "      <th>NO_OF_OW_CHQ_BNC_TXNS</th>\n",
       "      <td>20000.0</td>\n",
       "      <td>0.044400</td>\n",
       "      <td>0.206230</td>\n",
       "      <td>0.000000</td>\n",
       "      <td>0.000000</td>\n",
       "      <td>0.000000</td>\n",
       "      <td>0.000000e+00</td>\n",
       "      <td>2.000000e+00</td>\n",
       "    </tr>\n",
       "    <tr>\n",
       "      <th>AVG_AMT_PER_ATM_TXN</th>\n",
       "      <td>20000.0</td>\n",
       "      <td>7408.839731</td>\n",
       "      <td>7210.168619</td>\n",
       "      <td>0.000000</td>\n",
       "      <td>0.000000</td>\n",
       "      <td>6000.000000</td>\n",
       "      <td>1.350000e+04</td>\n",
       "      <td>2.500000e+04</td>\n",
       "    </tr>\n",
       "    <tr>\n",
       "      <th>AVG_AMT_PER_CSH_WDL_TXN</th>\n",
       "      <td>20000.0</td>\n",
       "      <td>242236.478811</td>\n",
       "      <td>269837.890598</td>\n",
       "      <td>0.000000</td>\n",
       "      <td>1265.450000</td>\n",
       "      <td>147095.000000</td>\n",
       "      <td>3.850000e+05</td>\n",
       "      <td>9.996400e+05</td>\n",
       "    </tr>\n",
       "    <tr>\n",
       "      <th>AVG_AMT_PER_CHQ_TXN</th>\n",
       "      <td>20000.0</td>\n",
       "      <td>25092.478384</td>\n",
       "      <td>49387.197536</td>\n",
       "      <td>0.000000</td>\n",
       "      <td>0.000000</td>\n",
       "      <td>8645.000000</td>\n",
       "      <td>2.860500e+04</td>\n",
       "      <td>5.378422e+05</td>\n",
       "    </tr>\n",
       "    <tr>\n",
       "      <th>AVG_AMT_PER_NET_TXN</th>\n",
       "      <td>20000.0</td>\n",
       "      <td>179059.029254</td>\n",
       "      <td>281706.855583</td>\n",
       "      <td>0.000000</td>\n",
       "      <td>0.000000</td>\n",
       "      <td>0.000000</td>\n",
       "      <td>2.576990e+05</td>\n",
       "      <td>9.998540e+05</td>\n",
       "    </tr>\n",
       "    <tr>\n",
       "      <th>AVG_AMT_PER_MOB_TXN</th>\n",
       "      <td>20000.0</td>\n",
       "      <td>20303.920406</td>\n",
       "      <td>46472.889982</td>\n",
       "      <td>0.000000</td>\n",
       "      <td>0.000000</td>\n",
       "      <td>0.000000</td>\n",
       "      <td>0.000000e+00</td>\n",
       "      <td>1.996670e+05</td>\n",
       "    </tr>\n",
       "    <tr>\n",
       "      <th>FLG_HAS_NOMINEE</th>\n",
       "      <td>20000.0</td>\n",
       "      <td>0.901150</td>\n",
       "      <td>0.298468</td>\n",
       "      <td>0.000000</td>\n",
       "      <td>1.000000</td>\n",
       "      <td>1.000000</td>\n",
       "      <td>1.000000e+00</td>\n",
       "      <td>1.000000e+00</td>\n",
       "    </tr>\n",
       "    <tr>\n",
       "      <th>FLG_HAS_OLD_LOAN</th>\n",
       "      <td>20000.0</td>\n",
       "      <td>0.492950</td>\n",
       "      <td>0.499963</td>\n",
       "      <td>0.000000</td>\n",
       "      <td>0.000000</td>\n",
       "      <td>0.000000</td>\n",
       "      <td>1.000000e+00</td>\n",
       "      <td>1.000000e+00</td>\n",
       "    </tr>\n",
       "    <tr>\n",
       "      <th>random</th>\n",
       "      <td>20000.0</td>\n",
       "      <td>0.501933</td>\n",
       "      <td>0.290762</td>\n",
       "      <td>0.000011</td>\n",
       "      <td>0.248187</td>\n",
       "      <td>0.506121</td>\n",
       "      <td>7.535712e-01</td>\n",
       "      <td>9.999471e-01</td>\n",
       "    </tr>\n",
       "  </tbody>\n",
       "</table>\n",
       "</div>"
      ],
      "text/plain": [
       "                            count           mean            std         min  \\\n",
       "TARGET                    20000.0       0.125600       0.331406    0.000000   \n",
       "AGE                       20000.0      38.418150       9.577985   21.000000   \n",
       "BALANCE                   20000.0  511362.192118  723592.961792    0.000000   \n",
       "SCR                       20000.0     440.150300     249.887582  100.000000   \n",
       "HOLDING_PERIOD            20000.0      14.955650       8.642634    1.000000   \n",
       "LEN_OF_RLTN_IN_MNTH       20000.0     125.239300      54.953936   29.000000   \n",
       "NO_OF_L_CR_TXNS           20000.0      12.348050      12.151921    0.000000   \n",
       "NO_OF_L_DR_TXNS           20000.0       6.633700       7.675830    0.000000   \n",
       "TOT_NO_OF_L_TXNS          20000.0      18.975400      17.759290    0.000000   \n",
       "NO_OF_BR_CSH_WDL_DR_TXNS  20000.0       1.883000       2.263596    0.000000   \n",
       "NO_OF_ATM_DR_TXNS         20000.0       1.028950       1.497239    0.000000   \n",
       "NO_OF_NET_DR_TXNS         20000.0       1.172450       2.404246    0.000000   \n",
       "NO_OF_MOB_DR_TXNS         20000.0       0.411750       2.009854    0.000000   \n",
       "NO_OF_CHQ_DR_TXNS         20000.0       2.137550       2.384893    0.000000   \n",
       "FLG_HAS_CC                20000.0       0.305400       0.460588    0.000000   \n",
       "AMT_ATM_DR                20000.0   10990.015000   15304.891499    0.000000   \n",
       "AMT_BR_CSH_WDL_DR         20000.0  378474.478000  331417.730129    0.000000   \n",
       "AMT_CHQ_DR                20000.0  124520.005150  439379.541425    0.000000   \n",
       "AMT_NET_DR                20000.0  237307.771646  319067.664858    0.000000   \n",
       "AMT_MOB_DR                20000.0   22424.704400   49484.803631    0.000000   \n",
       "AMT_L_DR                  20000.0  773716.974195  712659.173217    0.000000   \n",
       "FLG_HAS_ANY_CHGS          20000.0       0.110600       0.313644    0.000000   \n",
       "AMT_OTH_BK_ATM_USG_CHGS   20000.0       1.099500      14.219220    0.000000   \n",
       "AMT_MIN_BAL_NMC_CHGS      20000.0       1.292000      14.764201    0.000000   \n",
       "NO_OF_IW_CHQ_BNC_TXNS     20000.0       0.042750       0.203038    0.000000   \n",
       "NO_OF_OW_CHQ_BNC_TXNS     20000.0       0.044400       0.206230    0.000000   \n",
       "AVG_AMT_PER_ATM_TXN       20000.0    7408.839731    7210.168619    0.000000   \n",
       "AVG_AMT_PER_CSH_WDL_TXN   20000.0  242236.478811  269837.890598    0.000000   \n",
       "AVG_AMT_PER_CHQ_TXN       20000.0   25092.478384   49387.197536    0.000000   \n",
       "AVG_AMT_PER_NET_TXN       20000.0  179059.029254  281706.855583    0.000000   \n",
       "AVG_AMT_PER_MOB_TXN       20000.0   20303.920406   46472.889982    0.000000   \n",
       "FLG_HAS_NOMINEE           20000.0       0.901150       0.298468    0.000000   \n",
       "FLG_HAS_OLD_LOAN          20000.0       0.492950       0.499963    0.000000   \n",
       "random                    20000.0       0.501933       0.290762    0.000011   \n",
       "\n",
       "                                    25%            50%           75%  \\\n",
       "TARGET                         0.000000       0.000000  0.000000e+00   \n",
       "AGE                           30.000000      38.000000  4.600000e+01   \n",
       "BALANCE                    64754.025000  231675.845000  6.538768e+05   \n",
       "SCR                          227.000000     364.000000  6.440000e+02   \n",
       "HOLDING_PERIOD                 7.000000      15.000000  2.200000e+01   \n",
       "LEN_OF_RLTN_IN_MNTH           79.000000     125.000000  1.720000e+02   \n",
       "NO_OF_L_CR_TXNS                6.000000      10.000000  1.400000e+01   \n",
       "NO_OF_L_DR_TXNS                2.000000       5.000000  7.000000e+00   \n",
       "TOT_NO_OF_L_TXNS               9.000000      14.000000  2.100000e+01   \n",
       "NO_OF_BR_CSH_WDL_DR_TXNS       1.000000       1.000000  2.000000e+00   \n",
       "NO_OF_ATM_DR_TXNS              0.000000       1.000000  1.000000e+00   \n",
       "NO_OF_NET_DR_TXNS              0.000000       0.000000  1.000000e+00   \n",
       "NO_OF_MOB_DR_TXNS              0.000000       0.000000  0.000000e+00   \n",
       "NO_OF_CHQ_DR_TXNS              0.000000       2.000000  4.000000e+00   \n",
       "FLG_HAS_CC                     0.000000       0.000000  1.000000e+00   \n",
       "AMT_ATM_DR                     0.000000    6900.000000  1.580000e+04   \n",
       "AMT_BR_CSH_WDL_DR           2990.000000  340150.000000  6.746750e+05   \n",
       "AMT_CHQ_DR                     0.000000   23840.000000  7.247000e+04   \n",
       "AMT_NET_DR                     0.000000       0.000000  4.739705e+05   \n",
       "AMT_MOB_DR                     0.000000       0.000000  0.000000e+00   \n",
       "AMT_L_DR                  237935.500000  695115.000000  1.078927e+06   \n",
       "FLG_HAS_ANY_CHGS               0.000000       0.000000  0.000000e+00   \n",
       "AMT_OTH_BK_ATM_USG_CHGS        0.000000       0.000000  0.000000e+00   \n",
       "AMT_MIN_BAL_NMC_CHGS           0.000000       0.000000  0.000000e+00   \n",
       "NO_OF_IW_CHQ_BNC_TXNS          0.000000       0.000000  0.000000e+00   \n",
       "NO_OF_OW_CHQ_BNC_TXNS          0.000000       0.000000  0.000000e+00   \n",
       "AVG_AMT_PER_ATM_TXN            0.000000    6000.000000  1.350000e+04   \n",
       "AVG_AMT_PER_CSH_WDL_TXN     1265.450000  147095.000000  3.850000e+05   \n",
       "AVG_AMT_PER_CHQ_TXN            0.000000    8645.000000  2.860500e+04   \n",
       "AVG_AMT_PER_NET_TXN            0.000000       0.000000  2.576990e+05   \n",
       "AVG_AMT_PER_MOB_TXN            0.000000       0.000000  0.000000e+00   \n",
       "FLG_HAS_NOMINEE                1.000000       1.000000  1.000000e+00   \n",
       "FLG_HAS_OLD_LOAN               0.000000       0.000000  1.000000e+00   \n",
       "random                         0.248187       0.506121  7.535712e-01   \n",
       "\n",
       "                                   max  \n",
       "TARGET                    1.000000e+00  \n",
       "AGE                       5.500000e+01  \n",
       "BALANCE                   8.360431e+06  \n",
       "SCR                       9.990000e+02  \n",
       "HOLDING_PERIOD            3.100000e+01  \n",
       "LEN_OF_RLTN_IN_MNTH       2.210000e+02  \n",
       "NO_OF_L_CR_TXNS           7.500000e+01  \n",
       "NO_OF_L_DR_TXNS           7.400000e+01  \n",
       "TOT_NO_OF_L_TXNS          1.490000e+02  \n",
       "NO_OF_BR_CSH_WDL_DR_TXNS  1.500000e+01  \n",
       "NO_OF_ATM_DR_TXNS         2.500000e+01  \n",
       "NO_OF_NET_DR_TXNS         2.200000e+01  \n",
       "NO_OF_MOB_DR_TXNS         2.500000e+01  \n",
       "NO_OF_CHQ_DR_TXNS         1.500000e+01  \n",
       "FLG_HAS_CC                1.000000e+00  \n",
       "AMT_ATM_DR                1.993000e+05  \n",
       "AMT_BR_CSH_WDL_DR         9.999300e+05  \n",
       "AMT_CHQ_DR                4.928640e+06  \n",
       "AMT_NET_DR                9.998540e+05  \n",
       "AMT_MOB_DR                1.996670e+05  \n",
       "AMT_L_DR                  6.514921e+06  \n",
       "FLG_HAS_ANY_CHGS          1.000000e+00  \n",
       "AMT_OTH_BK_ATM_USG_CHGS   2.500000e+02  \n",
       "AMT_MIN_BAL_NMC_CHGS      1.700000e+02  \n",
       "NO_OF_IW_CHQ_BNC_TXNS     2.000000e+00  \n",
       "NO_OF_OW_CHQ_BNC_TXNS     2.000000e+00  \n",
       "AVG_AMT_PER_ATM_TXN       2.500000e+04  \n",
       "AVG_AMT_PER_CSH_WDL_TXN   9.996400e+05  \n",
       "AVG_AMT_PER_CHQ_TXN       5.378422e+05  \n",
       "AVG_AMT_PER_NET_TXN       9.998540e+05  \n",
       "AVG_AMT_PER_MOB_TXN       1.996670e+05  \n",
       "FLG_HAS_NOMINEE           1.000000e+00  \n",
       "FLG_HAS_OLD_LOAN          1.000000e+00  \n",
       "random                    9.999471e-01  "
      ]
     },
     "execution_count": 6,
     "metadata": {},
     "output_type": "execute_result"
    }
   ],
   "source": [
    "# Checking the statistical summary of numerical data\n",
    "data.describe().T"
   ]
  },
  {
   "cell_type": "code",
   "execution_count": 7,
   "metadata": {},
   "outputs": [
    {
     "data": {
      "text/html": [
       "<div>\n",
       "<style scoped>\n",
       "    .dataframe tbody tr th:only-of-type {\n",
       "        vertical-align: middle;\n",
       "    }\n",
       "\n",
       "    .dataframe tbody tr th {\n",
       "        vertical-align: top;\n",
       "    }\n",
       "\n",
       "    .dataframe thead th {\n",
       "        text-align: right;\n",
       "    }\n",
       "</style>\n",
       "<table border=\"1\" class=\"dataframe\">\n",
       "  <thead>\n",
       "    <tr style=\"text-align: right;\">\n",
       "      <th></th>\n",
       "      <th>CUST_ID</th>\n",
       "      <th>GENDER</th>\n",
       "      <th>OCCUPATION</th>\n",
       "      <th>AGE_BKT</th>\n",
       "      <th>ACC_TYPE</th>\n",
       "      <th>ACC_OP_DATE</th>\n",
       "    </tr>\n",
       "  </thead>\n",
       "  <tbody>\n",
       "    <tr>\n",
       "      <th>count</th>\n",
       "      <td>20000</td>\n",
       "      <td>20000</td>\n",
       "      <td>20000</td>\n",
       "      <td>20000</td>\n",
       "      <td>20000</td>\n",
       "      <td>20000</td>\n",
       "    </tr>\n",
       "    <tr>\n",
       "      <th>unique</th>\n",
       "      <td>20000</td>\n",
       "      <td>3</td>\n",
       "      <td>4</td>\n",
       "      <td>7</td>\n",
       "      <td>2</td>\n",
       "      <td>4869</td>\n",
       "    </tr>\n",
       "    <tr>\n",
       "      <th>top</th>\n",
       "      <td>C15571</td>\n",
       "      <td>M</td>\n",
       "      <td>SAL</td>\n",
       "      <td>26-30</td>\n",
       "      <td>SA</td>\n",
       "      <td>11/16/2010</td>\n",
       "    </tr>\n",
       "    <tr>\n",
       "      <th>freq</th>\n",
       "      <td>1</td>\n",
       "      <td>14376</td>\n",
       "      <td>5855</td>\n",
       "      <td>3434</td>\n",
       "      <td>15759</td>\n",
       "      <td>24</td>\n",
       "    </tr>\n",
       "  </tbody>\n",
       "</table>\n",
       "</div>"
      ],
      "text/plain": [
       "       CUST_ID GENDER OCCUPATION AGE_BKT ACC_TYPE ACC_OP_DATE\n",
       "count    20000  20000      20000   20000    20000       20000\n",
       "unique   20000      3          4       7        2        4869\n",
       "top     C15571      M        SAL   26-30       SA  11/16/2010\n",
       "freq         1  14376       5855    3434    15759          24"
      ]
     },
     "execution_count": 7,
     "metadata": {},
     "output_type": "execute_result"
    }
   ],
   "source": [
    "# Checking statistical summary of categorical data\n",
    "data.describe(include='object')"
   ]
  },
  {
   "cell_type": "code",
   "execution_count": 8,
   "metadata": {},
   "outputs": [
    {
     "data": {
      "text/plain": [
       "CUST_ID                      object\n",
       "TARGET                        int64\n",
       "AGE                           int64\n",
       "GENDER                       object\n",
       "BALANCE                     float64\n",
       "OCCUPATION                   object\n",
       "AGE_BKT                      object\n",
       "SCR                           int64\n",
       "HOLDING_PERIOD                int64\n",
       "ACC_TYPE                     object\n",
       "ACC_OP_DATE                  object\n",
       "LEN_OF_RLTN_IN_MNTH           int64\n",
       "NO_OF_L_CR_TXNS               int64\n",
       "NO_OF_L_DR_TXNS               int64\n",
       "TOT_NO_OF_L_TXNS              int64\n",
       "NO_OF_BR_CSH_WDL_DR_TXNS      int64\n",
       "NO_OF_ATM_DR_TXNS             int64\n",
       "NO_OF_NET_DR_TXNS             int64\n",
       "NO_OF_MOB_DR_TXNS             int64\n",
       "NO_OF_CHQ_DR_TXNS             int64\n",
       "FLG_HAS_CC                    int64\n",
       "AMT_ATM_DR                    int64\n",
       "AMT_BR_CSH_WDL_DR             int64\n",
       "AMT_CHQ_DR                    int64\n",
       "AMT_NET_DR                  float64\n",
       "AMT_MOB_DR                    int64\n",
       "AMT_L_DR                    float64\n",
       "FLG_HAS_ANY_CHGS              int64\n",
       "AMT_OTH_BK_ATM_USG_CHGS       int64\n",
       "AMT_MIN_BAL_NMC_CHGS          int64\n",
       "NO_OF_IW_CHQ_BNC_TXNS         int64\n",
       "NO_OF_OW_CHQ_BNC_TXNS         int64\n",
       "AVG_AMT_PER_ATM_TXN         float64\n",
       "AVG_AMT_PER_CSH_WDL_TXN     float64\n",
       "AVG_AMT_PER_CHQ_TXN         float64\n",
       "AVG_AMT_PER_NET_TXN         float64\n",
       "AVG_AMT_PER_MOB_TXN         float64\n",
       "FLG_HAS_NOMINEE               int64\n",
       "FLG_HAS_OLD_LOAN              int64\n",
       "random                      float64\n",
       "dtype: object"
      ]
     },
     "execution_count": 8,
     "metadata": {},
     "output_type": "execute_result"
    }
   ],
   "source": [
    "# Checking the data type\n",
    "data.dtypes"
   ]
  },
  {
   "cell_type": "code",
   "execution_count": 593,
   "metadata": {},
   "outputs": [
    {
     "data": {
      "text/plain": [
       "array([0, 1], dtype=int64)"
      ]
     },
     "execution_count": 593,
     "metadata": {},
     "output_type": "execute_result"
    }
   ],
   "source": [
    "data.TARGET.unique()"
   ]
  },
  {
   "cell_type": "code",
   "execution_count": 594,
   "metadata": {},
   "outputs": [
    {
     "data": {
      "text/plain": [
       "array(['SELF-EMP', 'SAL', 'PROF', 'SENP'], dtype=object)"
      ]
     },
     "execution_count": 594,
     "metadata": {},
     "output_type": "execute_result"
    }
   ],
   "source": [
    "data.OCCUPATION.unique()"
   ]
  },
  {
   "cell_type": "code",
   "execution_count": 595,
   "metadata": {},
   "outputs": [
    {
     "data": {
      "text/plain": [
       "array(['26-30', '46-50', '36-40', '>50', '41-45', '31-35', '<25'],\n",
       "      dtype=object)"
      ]
     },
     "execution_count": 595,
     "metadata": {},
     "output_type": "execute_result"
    }
   ],
   "source": [
    "data.AGE_BKT.unique()"
   ]
  },
  {
   "cell_type": "code",
   "execution_count": 596,
   "metadata": {},
   "outputs": [
    {
     "data": {
      "text/plain": [
       "array(['3/23/2005', '10/11/08', '4/26/2012', ..., '05/01/08', '4/24/2001',\n",
       "       '4/14/2000'], dtype=object)"
      ]
     },
     "execution_count": 596,
     "metadata": {},
     "output_type": "execute_result"
    }
   ],
   "source": [
    "data.ACC_OP_DATE.unique()"
   ]
  },
  {
   "cell_type": "code",
   "execution_count": 597,
   "metadata": {
    "scrolled": true
   },
   "outputs": [
    {
     "data": {
      "text/plain": [
       "array([0, 1], dtype=int64)"
      ]
     },
     "execution_count": 597,
     "metadata": {},
     "output_type": "execute_result"
    }
   ],
   "source": [
    "data.FLG_HAS_CC.unique()\n",
    "# Has credit card"
   ]
  },
  {
   "cell_type": "code",
   "execution_count": 598,
   "metadata": {},
   "outputs": [
    {
     "data": {
      "text/plain": [
       "array([1, 0], dtype=int64)"
      ]
     },
     "execution_count": 598,
     "metadata": {},
     "output_type": "execute_result"
    }
   ],
   "source": [
    "data.FLG_HAS_NOMINEE.unique()"
   ]
  },
  {
   "cell_type": "code",
   "execution_count": 599,
   "metadata": {},
   "outputs": [
    {
     "data": {
      "text/plain": [
       "array([1, 0], dtype=int64)"
      ]
     },
     "execution_count": 599,
     "metadata": {},
     "output_type": "execute_result"
    }
   ],
   "source": [
    "data.FLG_HAS_OLD_LOAN.unique()"
   ]
  },
  {
   "cell_type": "code",
   "execution_count": 9,
   "metadata": {},
   "outputs": [],
   "source": [
    "# changing the datatype\n",
    "data['TARGET'] = data['TARGET'].astype('object')\n",
    "data['FLG_HAS_CC'] = data['FLG_HAS_CC'].astype('object')\n",
    "data['FLG_HAS_NOMINEE'] = data['FLG_HAS_NOMINEE'].astype('object')\n",
    "data['FLG_HAS_OLD_LOAN'] = data['FLG_HAS_OLD_LOAN'].astype('object')"
   ]
  },
  {
   "cell_type": "code",
   "execution_count": 10,
   "metadata": {},
   "outputs": [],
   "source": [
    "#### Dropping CUST_ID columns as each enties is unique\n",
    "data.drop(['CUST_ID','ACC_OP_DATE'],axis=1,inplace=True)"
   ]
  },
  {
   "cell_type": "code",
   "execution_count": 11,
   "metadata": {
    "scrolled": true
   },
   "outputs": [
    {
     "data": {
      "text/html": [
       "<div>\n",
       "<style scoped>\n",
       "    .dataframe tbody tr th:only-of-type {\n",
       "        vertical-align: middle;\n",
       "    }\n",
       "\n",
       "    .dataframe tbody tr th {\n",
       "        vertical-align: top;\n",
       "    }\n",
       "\n",
       "    .dataframe thead th {\n",
       "        text-align: right;\n",
       "    }\n",
       "</style>\n",
       "<table border=\"1\" class=\"dataframe\">\n",
       "  <thead>\n",
       "    <tr style=\"text-align: right;\">\n",
       "      <th></th>\n",
       "      <th>AGE</th>\n",
       "      <th>BALANCE</th>\n",
       "      <th>SCR</th>\n",
       "      <th>HOLDING_PERIOD</th>\n",
       "      <th>LEN_OF_RLTN_IN_MNTH</th>\n",
       "      <th>NO_OF_L_CR_TXNS</th>\n",
       "      <th>NO_OF_L_DR_TXNS</th>\n",
       "      <th>TOT_NO_OF_L_TXNS</th>\n",
       "      <th>NO_OF_BR_CSH_WDL_DR_TXNS</th>\n",
       "      <th>NO_OF_ATM_DR_TXNS</th>\n",
       "      <th>NO_OF_NET_DR_TXNS</th>\n",
       "      <th>NO_OF_MOB_DR_TXNS</th>\n",
       "      <th>NO_OF_CHQ_DR_TXNS</th>\n",
       "      <th>AMT_ATM_DR</th>\n",
       "      <th>AMT_BR_CSH_WDL_DR</th>\n",
       "      <th>AMT_CHQ_DR</th>\n",
       "      <th>AMT_NET_DR</th>\n",
       "      <th>AMT_MOB_DR</th>\n",
       "      <th>AMT_L_DR</th>\n",
       "      <th>FLG_HAS_ANY_CHGS</th>\n",
       "      <th>AMT_OTH_BK_ATM_USG_CHGS</th>\n",
       "      <th>AMT_MIN_BAL_NMC_CHGS</th>\n",
       "      <th>NO_OF_IW_CHQ_BNC_TXNS</th>\n",
       "      <th>NO_OF_OW_CHQ_BNC_TXNS</th>\n",
       "      <th>AVG_AMT_PER_ATM_TXN</th>\n",
       "      <th>AVG_AMT_PER_CSH_WDL_TXN</th>\n",
       "      <th>AVG_AMT_PER_CHQ_TXN</th>\n",
       "      <th>AVG_AMT_PER_NET_TXN</th>\n",
       "      <th>AVG_AMT_PER_MOB_TXN</th>\n",
       "      <th>random</th>\n",
       "    </tr>\n",
       "  </thead>\n",
       "  <tbody>\n",
       "    <tr>\n",
       "      <th>count</th>\n",
       "      <td>20000.000000</td>\n",
       "      <td>2.000000e+04</td>\n",
       "      <td>20000.000000</td>\n",
       "      <td>20000.000000</td>\n",
       "      <td>20000.000000</td>\n",
       "      <td>20000.000000</td>\n",
       "      <td>20000.00000</td>\n",
       "      <td>20000.00000</td>\n",
       "      <td>20000.000000</td>\n",
       "      <td>20000.000000</td>\n",
       "      <td>20000.000000</td>\n",
       "      <td>20000.000000</td>\n",
       "      <td>20000.000000</td>\n",
       "      <td>20000.000000</td>\n",
       "      <td>20000.000000</td>\n",
       "      <td>2.000000e+04</td>\n",
       "      <td>20000.000000</td>\n",
       "      <td>20000.000000</td>\n",
       "      <td>2.000000e+04</td>\n",
       "      <td>20000.000000</td>\n",
       "      <td>20000.00000</td>\n",
       "      <td>20000.000000</td>\n",
       "      <td>20000.000000</td>\n",
       "      <td>20000.00000</td>\n",
       "      <td>20000.000000</td>\n",
       "      <td>20000.000000</td>\n",
       "      <td>20000.000000</td>\n",
       "      <td>20000.000000</td>\n",
       "      <td>20000.000000</td>\n",
       "      <td>20000.000000</td>\n",
       "    </tr>\n",
       "    <tr>\n",
       "      <th>mean</th>\n",
       "      <td>38.418150</td>\n",
       "      <td>5.113622e+05</td>\n",
       "      <td>440.150300</td>\n",
       "      <td>14.955650</td>\n",
       "      <td>125.239300</td>\n",
       "      <td>12.348050</td>\n",
       "      <td>6.63370</td>\n",
       "      <td>18.97540</td>\n",
       "      <td>1.883000</td>\n",
       "      <td>1.028950</td>\n",
       "      <td>1.172450</td>\n",
       "      <td>0.411750</td>\n",
       "      <td>2.137550</td>\n",
       "      <td>10990.015000</td>\n",
       "      <td>378474.478000</td>\n",
       "      <td>1.245200e+05</td>\n",
       "      <td>237307.771646</td>\n",
       "      <td>22424.704400</td>\n",
       "      <td>7.737170e+05</td>\n",
       "      <td>0.110600</td>\n",
       "      <td>1.09950</td>\n",
       "      <td>1.292000</td>\n",
       "      <td>0.042750</td>\n",
       "      <td>0.04440</td>\n",
       "      <td>7408.839731</td>\n",
       "      <td>242236.478811</td>\n",
       "      <td>25092.478384</td>\n",
       "      <td>179059.029254</td>\n",
       "      <td>20303.920406</td>\n",
       "      <td>0.501933</td>\n",
       "    </tr>\n",
       "    <tr>\n",
       "      <th>std</th>\n",
       "      <td>9.577985</td>\n",
       "      <td>7.235930e+05</td>\n",
       "      <td>249.887582</td>\n",
       "      <td>8.642634</td>\n",
       "      <td>54.953936</td>\n",
       "      <td>12.151921</td>\n",
       "      <td>7.67583</td>\n",
       "      <td>17.75929</td>\n",
       "      <td>2.263596</td>\n",
       "      <td>1.497239</td>\n",
       "      <td>2.404246</td>\n",
       "      <td>2.009854</td>\n",
       "      <td>2.384893</td>\n",
       "      <td>15304.891499</td>\n",
       "      <td>331417.730129</td>\n",
       "      <td>4.393795e+05</td>\n",
       "      <td>319067.664858</td>\n",
       "      <td>49484.803631</td>\n",
       "      <td>7.126592e+05</td>\n",
       "      <td>0.313644</td>\n",
       "      <td>14.21922</td>\n",
       "      <td>14.764201</td>\n",
       "      <td>0.203038</td>\n",
       "      <td>0.20623</td>\n",
       "      <td>7210.168619</td>\n",
       "      <td>269837.890598</td>\n",
       "      <td>49387.197536</td>\n",
       "      <td>281706.855583</td>\n",
       "      <td>46472.889982</td>\n",
       "      <td>0.290762</td>\n",
       "    </tr>\n",
       "    <tr>\n",
       "      <th>min</th>\n",
       "      <td>21.000000</td>\n",
       "      <td>0.000000e+00</td>\n",
       "      <td>100.000000</td>\n",
       "      <td>1.000000</td>\n",
       "      <td>29.000000</td>\n",
       "      <td>0.000000</td>\n",
       "      <td>0.00000</td>\n",
       "      <td>0.00000</td>\n",
       "      <td>0.000000</td>\n",
       "      <td>0.000000</td>\n",
       "      <td>0.000000</td>\n",
       "      <td>0.000000</td>\n",
       "      <td>0.000000</td>\n",
       "      <td>0.000000</td>\n",
       "      <td>0.000000</td>\n",
       "      <td>0.000000e+00</td>\n",
       "      <td>0.000000</td>\n",
       "      <td>0.000000</td>\n",
       "      <td>0.000000e+00</td>\n",
       "      <td>0.000000</td>\n",
       "      <td>0.00000</td>\n",
       "      <td>0.000000</td>\n",
       "      <td>0.000000</td>\n",
       "      <td>0.00000</td>\n",
       "      <td>0.000000</td>\n",
       "      <td>0.000000</td>\n",
       "      <td>0.000000</td>\n",
       "      <td>0.000000</td>\n",
       "      <td>0.000000</td>\n",
       "      <td>0.000011</td>\n",
       "    </tr>\n",
       "    <tr>\n",
       "      <th>25%</th>\n",
       "      <td>30.000000</td>\n",
       "      <td>6.475403e+04</td>\n",
       "      <td>227.000000</td>\n",
       "      <td>7.000000</td>\n",
       "      <td>79.000000</td>\n",
       "      <td>6.000000</td>\n",
       "      <td>2.00000</td>\n",
       "      <td>9.00000</td>\n",
       "      <td>1.000000</td>\n",
       "      <td>0.000000</td>\n",
       "      <td>0.000000</td>\n",
       "      <td>0.000000</td>\n",
       "      <td>0.000000</td>\n",
       "      <td>0.000000</td>\n",
       "      <td>2990.000000</td>\n",
       "      <td>0.000000e+00</td>\n",
       "      <td>0.000000</td>\n",
       "      <td>0.000000</td>\n",
       "      <td>2.379355e+05</td>\n",
       "      <td>0.000000</td>\n",
       "      <td>0.00000</td>\n",
       "      <td>0.000000</td>\n",
       "      <td>0.000000</td>\n",
       "      <td>0.00000</td>\n",
       "      <td>0.000000</td>\n",
       "      <td>1265.450000</td>\n",
       "      <td>0.000000</td>\n",
       "      <td>0.000000</td>\n",
       "      <td>0.000000</td>\n",
       "      <td>0.248187</td>\n",
       "    </tr>\n",
       "    <tr>\n",
       "      <th>50%</th>\n",
       "      <td>38.000000</td>\n",
       "      <td>2.316758e+05</td>\n",
       "      <td>364.000000</td>\n",
       "      <td>15.000000</td>\n",
       "      <td>125.000000</td>\n",
       "      <td>10.000000</td>\n",
       "      <td>5.00000</td>\n",
       "      <td>14.00000</td>\n",
       "      <td>1.000000</td>\n",
       "      <td>1.000000</td>\n",
       "      <td>0.000000</td>\n",
       "      <td>0.000000</td>\n",
       "      <td>2.000000</td>\n",
       "      <td>6900.000000</td>\n",
       "      <td>340150.000000</td>\n",
       "      <td>2.384000e+04</td>\n",
       "      <td>0.000000</td>\n",
       "      <td>0.000000</td>\n",
       "      <td>6.951150e+05</td>\n",
       "      <td>0.000000</td>\n",
       "      <td>0.00000</td>\n",
       "      <td>0.000000</td>\n",
       "      <td>0.000000</td>\n",
       "      <td>0.00000</td>\n",
       "      <td>6000.000000</td>\n",
       "      <td>147095.000000</td>\n",
       "      <td>8645.000000</td>\n",
       "      <td>0.000000</td>\n",
       "      <td>0.000000</td>\n",
       "      <td>0.506121</td>\n",
       "    </tr>\n",
       "    <tr>\n",
       "      <th>75%</th>\n",
       "      <td>46.000000</td>\n",
       "      <td>6.538768e+05</td>\n",
       "      <td>644.000000</td>\n",
       "      <td>22.000000</td>\n",
       "      <td>172.000000</td>\n",
       "      <td>14.000000</td>\n",
       "      <td>7.00000</td>\n",
       "      <td>21.00000</td>\n",
       "      <td>2.000000</td>\n",
       "      <td>1.000000</td>\n",
       "      <td>1.000000</td>\n",
       "      <td>0.000000</td>\n",
       "      <td>4.000000</td>\n",
       "      <td>15800.000000</td>\n",
       "      <td>674675.000000</td>\n",
       "      <td>7.247000e+04</td>\n",
       "      <td>473970.500000</td>\n",
       "      <td>0.000000</td>\n",
       "      <td>1.078927e+06</td>\n",
       "      <td>0.000000</td>\n",
       "      <td>0.00000</td>\n",
       "      <td>0.000000</td>\n",
       "      <td>0.000000</td>\n",
       "      <td>0.00000</td>\n",
       "      <td>13500.000000</td>\n",
       "      <td>385000.000000</td>\n",
       "      <td>28605.000000</td>\n",
       "      <td>257699.000000</td>\n",
       "      <td>0.000000</td>\n",
       "      <td>0.753571</td>\n",
       "    </tr>\n",
       "    <tr>\n",
       "      <th>max</th>\n",
       "      <td>55.000000</td>\n",
       "      <td>8.360431e+06</td>\n",
       "      <td>999.000000</td>\n",
       "      <td>31.000000</td>\n",
       "      <td>221.000000</td>\n",
       "      <td>75.000000</td>\n",
       "      <td>74.00000</td>\n",
       "      <td>149.00000</td>\n",
       "      <td>15.000000</td>\n",
       "      <td>25.000000</td>\n",
       "      <td>22.000000</td>\n",
       "      <td>25.000000</td>\n",
       "      <td>15.000000</td>\n",
       "      <td>199300.000000</td>\n",
       "      <td>999930.000000</td>\n",
       "      <td>4.928640e+06</td>\n",
       "      <td>999854.000000</td>\n",
       "      <td>199667.000000</td>\n",
       "      <td>6.514921e+06</td>\n",
       "      <td>1.000000</td>\n",
       "      <td>250.00000</td>\n",
       "      <td>170.000000</td>\n",
       "      <td>2.000000</td>\n",
       "      <td>2.00000</td>\n",
       "      <td>25000.000000</td>\n",
       "      <td>999640.000000</td>\n",
       "      <td>537842.220000</td>\n",
       "      <td>999854.000000</td>\n",
       "      <td>199667.000000</td>\n",
       "      <td>0.999947</td>\n",
       "    </tr>\n",
       "  </tbody>\n",
       "</table>\n",
       "</div>"
      ],
      "text/plain": [
       "                AGE       BALANCE           SCR  HOLDING_PERIOD  \\\n",
       "count  20000.000000  2.000000e+04  20000.000000    20000.000000   \n",
       "mean      38.418150  5.113622e+05    440.150300       14.955650   \n",
       "std        9.577985  7.235930e+05    249.887582        8.642634   \n",
       "min       21.000000  0.000000e+00    100.000000        1.000000   \n",
       "25%       30.000000  6.475403e+04    227.000000        7.000000   \n",
       "50%       38.000000  2.316758e+05    364.000000       15.000000   \n",
       "75%       46.000000  6.538768e+05    644.000000       22.000000   \n",
       "max       55.000000  8.360431e+06    999.000000       31.000000   \n",
       "\n",
       "       LEN_OF_RLTN_IN_MNTH  NO_OF_L_CR_TXNS  NO_OF_L_DR_TXNS  \\\n",
       "count         20000.000000     20000.000000      20000.00000   \n",
       "mean            125.239300        12.348050          6.63370   \n",
       "std              54.953936        12.151921          7.67583   \n",
       "min              29.000000         0.000000          0.00000   \n",
       "25%              79.000000         6.000000          2.00000   \n",
       "50%             125.000000        10.000000          5.00000   \n",
       "75%             172.000000        14.000000          7.00000   \n",
       "max             221.000000        75.000000         74.00000   \n",
       "\n",
       "       TOT_NO_OF_L_TXNS  NO_OF_BR_CSH_WDL_DR_TXNS  NO_OF_ATM_DR_TXNS  \\\n",
       "count       20000.00000              20000.000000       20000.000000   \n",
       "mean           18.97540                  1.883000           1.028950   \n",
       "std            17.75929                  2.263596           1.497239   \n",
       "min             0.00000                  0.000000           0.000000   \n",
       "25%             9.00000                  1.000000           0.000000   \n",
       "50%            14.00000                  1.000000           1.000000   \n",
       "75%            21.00000                  2.000000           1.000000   \n",
       "max           149.00000                 15.000000          25.000000   \n",
       "\n",
       "       NO_OF_NET_DR_TXNS  NO_OF_MOB_DR_TXNS  NO_OF_CHQ_DR_TXNS     AMT_ATM_DR  \\\n",
       "count       20000.000000       20000.000000       20000.000000   20000.000000   \n",
       "mean            1.172450           0.411750           2.137550   10990.015000   \n",
       "std             2.404246           2.009854           2.384893   15304.891499   \n",
       "min             0.000000           0.000000           0.000000       0.000000   \n",
       "25%             0.000000           0.000000           0.000000       0.000000   \n",
       "50%             0.000000           0.000000           2.000000    6900.000000   \n",
       "75%             1.000000           0.000000           4.000000   15800.000000   \n",
       "max            22.000000          25.000000          15.000000  199300.000000   \n",
       "\n",
       "       AMT_BR_CSH_WDL_DR    AMT_CHQ_DR     AMT_NET_DR     AMT_MOB_DR  \\\n",
       "count       20000.000000  2.000000e+04   20000.000000   20000.000000   \n",
       "mean       378474.478000  1.245200e+05  237307.771646   22424.704400   \n",
       "std        331417.730129  4.393795e+05  319067.664858   49484.803631   \n",
       "min             0.000000  0.000000e+00       0.000000       0.000000   \n",
       "25%          2990.000000  0.000000e+00       0.000000       0.000000   \n",
       "50%        340150.000000  2.384000e+04       0.000000       0.000000   \n",
       "75%        674675.000000  7.247000e+04  473970.500000       0.000000   \n",
       "max        999930.000000  4.928640e+06  999854.000000  199667.000000   \n",
       "\n",
       "           AMT_L_DR  FLG_HAS_ANY_CHGS  AMT_OTH_BK_ATM_USG_CHGS  \\\n",
       "count  2.000000e+04      20000.000000              20000.00000   \n",
       "mean   7.737170e+05          0.110600                  1.09950   \n",
       "std    7.126592e+05          0.313644                 14.21922   \n",
       "min    0.000000e+00          0.000000                  0.00000   \n",
       "25%    2.379355e+05          0.000000                  0.00000   \n",
       "50%    6.951150e+05          0.000000                  0.00000   \n",
       "75%    1.078927e+06          0.000000                  0.00000   \n",
       "max    6.514921e+06          1.000000                250.00000   \n",
       "\n",
       "       AMT_MIN_BAL_NMC_CHGS  NO_OF_IW_CHQ_BNC_TXNS  NO_OF_OW_CHQ_BNC_TXNS  \\\n",
       "count          20000.000000           20000.000000            20000.00000   \n",
       "mean               1.292000               0.042750                0.04440   \n",
       "std               14.764201               0.203038                0.20623   \n",
       "min                0.000000               0.000000                0.00000   \n",
       "25%                0.000000               0.000000                0.00000   \n",
       "50%                0.000000               0.000000                0.00000   \n",
       "75%                0.000000               0.000000                0.00000   \n",
       "max              170.000000               2.000000                2.00000   \n",
       "\n",
       "       AVG_AMT_PER_ATM_TXN  AVG_AMT_PER_CSH_WDL_TXN  AVG_AMT_PER_CHQ_TXN  \\\n",
       "count         20000.000000             20000.000000         20000.000000   \n",
       "mean           7408.839731            242236.478811         25092.478384   \n",
       "std            7210.168619            269837.890598         49387.197536   \n",
       "min               0.000000                 0.000000             0.000000   \n",
       "25%               0.000000              1265.450000             0.000000   \n",
       "50%            6000.000000            147095.000000          8645.000000   \n",
       "75%           13500.000000            385000.000000         28605.000000   \n",
       "max           25000.000000            999640.000000        537842.220000   \n",
       "\n",
       "       AVG_AMT_PER_NET_TXN  AVG_AMT_PER_MOB_TXN        random  \n",
       "count         20000.000000         20000.000000  20000.000000  \n",
       "mean         179059.029254         20303.920406      0.501933  \n",
       "std          281706.855583         46472.889982      0.290762  \n",
       "min               0.000000             0.000000      0.000011  \n",
       "25%               0.000000             0.000000      0.248187  \n",
       "50%               0.000000             0.000000      0.506121  \n",
       "75%          257699.000000             0.000000      0.753571  \n",
       "max          999854.000000        199667.000000      0.999947  "
      ]
     },
     "execution_count": 11,
     "metadata": {},
     "output_type": "execute_result"
    }
   ],
   "source": [
    "# Checking the statistical summary of numerical data\n",
    "data.describe()"
   ]
  },
  {
   "cell_type": "code",
   "execution_count": 12,
   "metadata": {},
   "outputs": [
    {
     "data": {
      "text/html": [
       "<div>\n",
       "<style scoped>\n",
       "    .dataframe tbody tr th:only-of-type {\n",
       "        vertical-align: middle;\n",
       "    }\n",
       "\n",
       "    .dataframe tbody tr th {\n",
       "        vertical-align: top;\n",
       "    }\n",
       "\n",
       "    .dataframe thead th {\n",
       "        text-align: right;\n",
       "    }\n",
       "</style>\n",
       "<table border=\"1\" class=\"dataframe\">\n",
       "  <thead>\n",
       "    <tr style=\"text-align: right;\">\n",
       "      <th></th>\n",
       "      <th>TARGET</th>\n",
       "      <th>GENDER</th>\n",
       "      <th>OCCUPATION</th>\n",
       "      <th>AGE_BKT</th>\n",
       "      <th>ACC_TYPE</th>\n",
       "      <th>FLG_HAS_CC</th>\n",
       "      <th>FLG_HAS_NOMINEE</th>\n",
       "      <th>FLG_HAS_OLD_LOAN</th>\n",
       "    </tr>\n",
       "  </thead>\n",
       "  <tbody>\n",
       "    <tr>\n",
       "      <th>count</th>\n",
       "      <td>20000</td>\n",
       "      <td>20000</td>\n",
       "      <td>20000</td>\n",
       "      <td>20000</td>\n",
       "      <td>20000</td>\n",
       "      <td>20000</td>\n",
       "      <td>20000</td>\n",
       "      <td>20000</td>\n",
       "    </tr>\n",
       "    <tr>\n",
       "      <th>unique</th>\n",
       "      <td>2</td>\n",
       "      <td>3</td>\n",
       "      <td>4</td>\n",
       "      <td>7</td>\n",
       "      <td>2</td>\n",
       "      <td>2</td>\n",
       "      <td>2</td>\n",
       "      <td>2</td>\n",
       "    </tr>\n",
       "    <tr>\n",
       "      <th>top</th>\n",
       "      <td>0</td>\n",
       "      <td>M</td>\n",
       "      <td>SAL</td>\n",
       "      <td>26-30</td>\n",
       "      <td>SA</td>\n",
       "      <td>0</td>\n",
       "      <td>1</td>\n",
       "      <td>0</td>\n",
       "    </tr>\n",
       "    <tr>\n",
       "      <th>freq</th>\n",
       "      <td>17488</td>\n",
       "      <td>14376</td>\n",
       "      <td>5855</td>\n",
       "      <td>3434</td>\n",
       "      <td>15759</td>\n",
       "      <td>13892</td>\n",
       "      <td>18023</td>\n",
       "      <td>10141</td>\n",
       "    </tr>\n",
       "  </tbody>\n",
       "</table>\n",
       "</div>"
      ],
      "text/plain": [
       "        TARGET GENDER OCCUPATION AGE_BKT ACC_TYPE  FLG_HAS_CC  \\\n",
       "count    20000  20000      20000   20000    20000       20000   \n",
       "unique       2      3          4       7        2           2   \n",
       "top          0      M        SAL   26-30       SA           0   \n",
       "freq     17488  14376       5855    3434    15759       13892   \n",
       "\n",
       "        FLG_HAS_NOMINEE  FLG_HAS_OLD_LOAN  \n",
       "count             20000             20000  \n",
       "unique                2                 2  \n",
       "top                   1                 0  \n",
       "freq              18023             10141  "
      ]
     },
     "execution_count": 12,
     "metadata": {},
     "output_type": "execute_result"
    }
   ],
   "source": [
    "# Checking the statistics of categorical data\n",
    "data.describe(include='object')"
   ]
  },
  {
   "cell_type": "markdown",
   "metadata": {},
   "source": [
    "#### Visualizing Numerical Data"
   ]
  },
  {
   "cell_type": "code",
   "execution_count": 16,
   "metadata": {},
   "outputs": [],
   "source": [
    "import seaborn as sns\n",
    "plt.figure(figsize=[14,4])\n",
    "plt.subplot(1,3,1)\n",
    "sns.distplot(x='AGE', data=df,palette=\"Set2\")\n",
    "plt.subplot(1,3,2)\n",
    "sns.countplot(x='education', hue='deposit', data=df,palette=\"Set2\")\n",
    "plt.subplot(1,3,3)\n",
    "sns.countplot(x='contact', hue='deposit', data=df,palette=\"Set2\")\n",
    "plt.show()"
   ]
  },
  {
   "cell_type": "code",
   "execution_count": 24,
   "metadata": {},
   "outputs": [
    {
     "data": {
      "text/plain": [
       "<matplotlib.axes._subplots.AxesSubplot at 0x1f352a59a20>"
      ]
     },
     "execution_count": 24,
     "metadata": {},
     "output_type": "execute_result"
    },
    {
     "data": {
      "image/png": "[encoded data removed]",
      "text/plain": [
       "<Figure size 1008x504 with 2 Axes>"
      ]
     },
     "metadata": {
      "needs_background": "light"
     },
     "output_type": "display_data"
    }
   ],
   "source": [
    "import seaborn as sns\n",
    "plt.figure(figsize=[14,7])\n",
    "plt.subplot(2,2,1)\n",
    "sns.distplot(data['AGE'])\n",
    "plt.subplot(2,2,2)\n",
    "sns.distplot(data['BALANCE'])"
   ]
  },
  {
   "cell_type": "code",
   "execution_count": 30,
   "metadata": {},
   "outputs": [
    {
     "data": {
      "text/plain": [
       "<matplotlib.axes._subplots.AxesSubplot at 0x1f3539c8630>"
      ]
     },
     "execution_count": 30,
     "metadata": {},
     "output_type": "execute_result"
    },
    {
     "data": {
      "image/png": "[encoded data removed]",
      "text/plain": [
       "<Figure size 1008x504 with 2 Axes>"
      ]
     },
     "metadata": {
      "needs_background": "light"
     },
     "output_type": "display_data"
    }
   ],
   "source": [
    "plt.figure(figsize=[14,7])\n",
    "plt.subplot(2,2,1)\n",
    "sns.distplot(data['SCR'])\n",
    "plt.subplot(2,2,2)\n",
    "sns.distplot(data['HOLDING_PERIOD'])"
   ]
  },
  {
   "cell_type": "code",
   "execution_count": 31,
   "metadata": {},
   "outputs": [
    {
     "data": {
      "text/plain": [
       "<matplotlib.axes._subplots.AxesSubplot at 0x1f353b57c88>"
      ]
     },
     "execution_count": 31,
     "metadata": {},
     "output_type": "execute_result"
    },
    {
     "data": {
      "image/png": "[encoded data removed]",
      "text/plain": [
       "<Figure size 1008x504 with 2 Axes>"
      ]
     },
     "metadata": {
      "needs_background": "light"
     },
     "output_type": "display_data"
    }
   ],
   "source": [
    "plt.figure(figsize=[14,7])\n",
    "plt.subplot(2,2,1)\n",
    "sns.distplot(data['LEN_OF_RLTN_IN_MNTH'])\n",
    "plt.subplot(2,2,2)\n",
    "sns.distplot(data['NO_OF_L_CR_TXNS'])"
   ]
  },
  {
   "cell_type": "code",
   "execution_count": 32,
   "metadata": {},
   "outputs": [
    {
     "data": {
      "text/plain": [
       "<matplotlib.axes._subplots.AxesSubplot at 0x1f353b89b38>"
      ]
     },
     "execution_count": 32,
     "metadata": {},
     "output_type": "execute_result"
    },
    {
     "data": {
      "image/png": "[encoded data removed]",
      "text/plain": [
       "<Figure size 1008x504 with 2 Axes>"
      ]
     },
     "metadata": {
      "needs_background": "light"
     },
     "output_type": "display_data"
    }
   ],
   "source": [
    "plt.figure(figsize=[14,7])\n",
    "plt.subplot(2,2,1)\n",
    "sns.distplot(data['NO_OF_L_DR_TXNS'])\n",
    "plt.subplot(2,2,2)\n",
    "sns.distplot(data['TOT_NO_OF_L_TXNS'])"
   ]
  },
  {
   "cell_type": "code",
   "execution_count": 37,
   "metadata": {},
   "outputs": [
    {
     "data": {
      "text/plain": [
       "<matplotlib.axes._subplots.AxesSubplot at 0x1f358425e48>"
      ]
     },
     "execution_count": 37,
     "metadata": {},
     "output_type": "execute_result"
    },
    {
     "data": {
      "image/png": "[encoded data removed]",
      "text/plain": [
       "<Figure size 1008x504 with 2 Axes>"
      ]
     },
     "metadata": {
      "needs_background": "light"
     },
     "output_type": "display_data"
    }
   ],
   "source": [
    "plt.figure(figsize=[14,7])\n",
    "plt.subplot(2,2,1)\n",
    "sns.distplot(data['NO_OF_BR_CSH_WDL_DR_TXNS'])\n",
    "plt.subplot(2,2,2)\n",
    "sns.distplot(data['NO_OF_ATM_DR_TXNS'])"
   ]
  },
  {
   "cell_type": "markdown",
   "metadata": {},
   "source": [
    "Here, we can see that the numerical data is skewed and it is not on the same scale so we have to standardize our data "
   ]
  },
  {
   "cell_type": "markdown",
   "metadata": {},
   "source": [
    "#### Visualizing the Categorical Features"
   ]
  },
  {
   "cell_type": "code",
   "execution_count": 46,
   "metadata": {},
   "outputs": [
    {
     "data": {
      "text/plain": [
       "<matplotlib.axes._subplots.AxesSubplot at 0x1f3599b1dd8>"
      ]
     },
     "execution_count": 46,
     "metadata": {},
     "output_type": "execute_result"
    },
    {
     "data": {
      "image/png": "[encoded data removed]",
      "text/plain": [
       "<Figure size 432x288 with 1 Axes>"
      ]
     },
     "metadata": {},
     "output_type": "display_data"
    }
   ],
   "source": [
    "import seaborn as sns\n",
    "sns.set(style = 'whitegrid')\n",
    "sns.countplot(x='GENDER',hue = 'TARGET',data = data)"
   ]
  },
  {
   "cell_type": "code",
   "execution_count": 47,
   "metadata": {},
   "outputs": [
    {
     "data": {
      "text/plain": [
       "<matplotlib.axes._subplots.AxesSubplot at 0x1f358688a58>"
      ]
     },
     "execution_count": 47,
     "metadata": {},
     "output_type": "execute_result"
    },
    {
     "data": {
      "image/png": "[encoded data removed]",
      "text/plain": [
       "<Figure size 936x576 with 2 Axes>"
      ]
     },
     "metadata": {},
     "output_type": "display_data"
    }
   ],
   "source": [
    "plt.figure(figsize=(13,8))\n",
    "plt.subplot(2,2,1)\n",
    "sns.countplot(x='OCCUPATION',hue = 'TARGET',data = data)\n",
    "plt.subplot(2,2,2)\n",
    "sns.countplot(x='AGE_BKT',hue = 'TARGET',data = data)"
   ]
  },
  {
   "cell_type": "code",
   "execution_count": 48,
   "metadata": {},
   "outputs": [
    {
     "data": {
      "text/plain": [
       "<matplotlib.axes._subplots.AxesSubplot at 0x1f359d66320>"
      ]
     },
     "execution_count": 48,
     "metadata": {},
     "output_type": "execute_result"
    },
    {
     "data": {
      "image/png": "[encoded data removed]",
      "text/plain": [
       "<Figure size 936x576 with 2 Axes>"
      ]
     },
     "metadata": {},
     "output_type": "display_data"
    }
   ],
   "source": [
    "plt.figure(figsize=(13,8))\n",
    "plt.subplot(2,2,1)\n",
    "sns.countplot(x='ACC_TYPE',hue = 'TARGET',data = data)\n",
    "plt.subplot(2,2,2)\n",
    "sns.countplot(x='FLG_HAS_CC',hue = 'TARGET',data = data)"
   ]
  },
  {
   "cell_type": "code",
   "execution_count": 49,
   "metadata": {},
   "outputs": [
    {
     "data": {
      "text/plain": [
       "<matplotlib.axes._subplots.AxesSubplot at 0x1f359b4e4e0>"
      ]
     },
     "execution_count": 49,
     "metadata": {},
     "output_type": "execute_result"
    },
    {
     "data": {
      "image/png": "[encoded data removed]",
      "text/plain": [
       "<Figure size 936x576 with 2 Axes>"
      ]
     },
     "metadata": {},
     "output_type": "display_data"
    }
   ],
   "source": [
    "plt.figure(figsize=(13,8))\n",
    "plt.subplot(2,2,1)\n",
    "sns.countplot(x='FLG_HAS_NOMINEE',hue = 'TARGET',data = data)\n",
    "plt.subplot(2,2,2)\n",
    "sns.countplot(x='FLG_HAS_OLD_LOAN',hue = 'TARGET',data = data)"
   ]
  },
  {
   "cell_type": "code",
   "execution_count": 762,
   "metadata": {},
   "outputs": [
    {
     "data": {
      "text/html": [
       "<div>\n",
       "<style scoped>\n",
       "    .dataframe tbody tr th:only-of-type {\n",
       "        vertical-align: middle;\n",
       "    }\n",
       "\n",
       "    .dataframe tbody tr th {\n",
       "        vertical-align: top;\n",
       "    }\n",
       "\n",
       "    .dataframe thead th {\n",
       "        text-align: right;\n",
       "    }\n",
       "</style>\n",
       "<table border=\"1\" class=\"dataframe\">\n",
       "  <thead>\n",
       "    <tr style=\"text-align: right;\">\n",
       "      <th></th>\n",
       "      <th>TARGET</th>\n",
       "      <th>AGE</th>\n",
       "      <th>GENDER</th>\n",
       "      <th>BALANCE</th>\n",
       "      <th>OCCUPATION</th>\n",
       "      <th>AGE_BKT</th>\n",
       "      <th>SCR</th>\n",
       "      <th>HOLDING_PERIOD</th>\n",
       "      <th>ACC_TYPE</th>\n",
       "      <th>LEN_OF_RLTN_IN_MNTH</th>\n",
       "      <th>NO_OF_L_CR_TXNS</th>\n",
       "      <th>NO_OF_L_DR_TXNS</th>\n",
       "      <th>TOT_NO_OF_L_TXNS</th>\n",
       "      <th>NO_OF_BR_CSH_WDL_DR_TXNS</th>\n",
       "      <th>NO_OF_ATM_DR_TXNS</th>\n",
       "      <th>NO_OF_NET_DR_TXNS</th>\n",
       "      <th>NO_OF_MOB_DR_TXNS</th>\n",
       "      <th>NO_OF_CHQ_DR_TXNS</th>\n",
       "      <th>FLG_HAS_CC</th>\n",
       "      <th>AMT_ATM_DR</th>\n",
       "      <th>AMT_BR_CSH_WDL_DR</th>\n",
       "      <th>AMT_CHQ_DR</th>\n",
       "      <th>AMT_NET_DR</th>\n",
       "      <th>AMT_MOB_DR</th>\n",
       "      <th>AMT_L_DR</th>\n",
       "      <th>FLG_HAS_ANY_CHGS</th>\n",
       "      <th>AMT_OTH_BK_ATM_USG_CHGS</th>\n",
       "      <th>AMT_MIN_BAL_NMC_CHGS</th>\n",
       "      <th>NO_OF_IW_CHQ_BNC_TXNS</th>\n",
       "      <th>NO_OF_OW_CHQ_BNC_TXNS</th>\n",
       "      <th>AVG_AMT_PER_ATM_TXN</th>\n",
       "      <th>AVG_AMT_PER_CSH_WDL_TXN</th>\n",
       "      <th>AVG_AMT_PER_CHQ_TXN</th>\n",
       "      <th>AVG_AMT_PER_NET_TXN</th>\n",
       "      <th>AVG_AMT_PER_MOB_TXN</th>\n",
       "      <th>FLG_HAS_NOMINEE</th>\n",
       "      <th>FLG_HAS_OLD_LOAN</th>\n",
       "      <th>random</th>\n",
       "    </tr>\n",
       "  </thead>\n",
       "  <tbody>\n",
       "    <tr>\n",
       "      <th>0</th>\n",
       "      <td>0</td>\n",
       "      <td>27</td>\n",
       "      <td>M</td>\n",
       "      <td>3383.75</td>\n",
       "      <td>SELF-EMP</td>\n",
       "      <td>26-30</td>\n",
       "      <td>776</td>\n",
       "      <td>30</td>\n",
       "      <td>SA</td>\n",
       "      <td>146</td>\n",
       "      <td>7</td>\n",
       "      <td>3</td>\n",
       "      <td>10</td>\n",
       "      <td>0</td>\n",
       "      <td>1</td>\n",
       "      <td>2</td>\n",
       "      <td>0</td>\n",
       "      <td>0</td>\n",
       "      <td>0</td>\n",
       "      <td>13100</td>\n",
       "      <td>0</td>\n",
       "      <td>0</td>\n",
       "      <td>973557.0</td>\n",
       "      <td>0</td>\n",
       "      <td>986657.0</td>\n",
       "      <td>0</td>\n",
       "      <td>0</td>\n",
       "      <td>0</td>\n",
       "      <td>0</td>\n",
       "      <td>0</td>\n",
       "      <td>13100.0</td>\n",
       "      <td>0.0</td>\n",
       "      <td>0.0</td>\n",
       "      <td>486778.50</td>\n",
       "      <td>0.0</td>\n",
       "      <td>1</td>\n",
       "      <td>1</td>\n",
       "      <td>0.000011</td>\n",
       "    </tr>\n",
       "    <tr>\n",
       "      <th>1</th>\n",
       "      <td>0</td>\n",
       "      <td>47</td>\n",
       "      <td>M</td>\n",
       "      <td>287489.04</td>\n",
       "      <td>SAL</td>\n",
       "      <td>46-50</td>\n",
       "      <td>324</td>\n",
       "      <td>28</td>\n",
       "      <td>SA</td>\n",
       "      <td>104</td>\n",
       "      <td>8</td>\n",
       "      <td>2</td>\n",
       "      <td>10</td>\n",
       "      <td>0</td>\n",
       "      <td>1</td>\n",
       "      <td>1</td>\n",
       "      <td>0</td>\n",
       "      <td>0</td>\n",
       "      <td>0</td>\n",
       "      <td>6600</td>\n",
       "      <td>0</td>\n",
       "      <td>0</td>\n",
       "      <td>799813.0</td>\n",
       "      <td>0</td>\n",
       "      <td>806413.0</td>\n",
       "      <td>1</td>\n",
       "      <td>0</td>\n",
       "      <td>0</td>\n",
       "      <td>0</td>\n",
       "      <td>0</td>\n",
       "      <td>6600.0</td>\n",
       "      <td>0.0</td>\n",
       "      <td>0.0</td>\n",
       "      <td>799813.00</td>\n",
       "      <td>0.0</td>\n",
       "      <td>1</td>\n",
       "      <td>0</td>\n",
       "      <td>0.000111</td>\n",
       "    </tr>\n",
       "    <tr>\n",
       "      <th>2</th>\n",
       "      <td>0</td>\n",
       "      <td>40</td>\n",
       "      <td>M</td>\n",
       "      <td>18216.88</td>\n",
       "      <td>SELF-EMP</td>\n",
       "      <td>36-40</td>\n",
       "      <td>603</td>\n",
       "      <td>2</td>\n",
       "      <td>SA</td>\n",
       "      <td>61</td>\n",
       "      <td>10</td>\n",
       "      <td>5</td>\n",
       "      <td>15</td>\n",
       "      <td>1</td>\n",
       "      <td>1</td>\n",
       "      <td>1</td>\n",
       "      <td>0</td>\n",
       "      <td>2</td>\n",
       "      <td>0</td>\n",
       "      <td>11200</td>\n",
       "      <td>561120</td>\n",
       "      <td>49320</td>\n",
       "      <td>997570.0</td>\n",
       "      <td>0</td>\n",
       "      <td>1619210.0</td>\n",
       "      <td>1</td>\n",
       "      <td>0</td>\n",
       "      <td>0</td>\n",
       "      <td>0</td>\n",
       "      <td>1</td>\n",
       "      <td>11200.0</td>\n",
       "      <td>561120.0</td>\n",
       "      <td>24660.0</td>\n",
       "      <td>997570.00</td>\n",
       "      <td>0.0</td>\n",
       "      <td>1</td>\n",
       "      <td>1</td>\n",
       "      <td>0.000120</td>\n",
       "    </tr>\n",
       "    <tr>\n",
       "      <th>3</th>\n",
       "      <td>0</td>\n",
       "      <td>53</td>\n",
       "      <td>M</td>\n",
       "      <td>71720.48</td>\n",
       "      <td>SAL</td>\n",
       "      <td>&gt;50</td>\n",
       "      <td>196</td>\n",
       "      <td>13</td>\n",
       "      <td>CA</td>\n",
       "      <td>107</td>\n",
       "      <td>36</td>\n",
       "      <td>14</td>\n",
       "      <td>50</td>\n",
       "      <td>4</td>\n",
       "      <td>2</td>\n",
       "      <td>3</td>\n",
       "      <td>1</td>\n",
       "      <td>4</td>\n",
       "      <td>0</td>\n",
       "      <td>26100</td>\n",
       "      <td>673590</td>\n",
       "      <td>60780</td>\n",
       "      <td>741506.0</td>\n",
       "      <td>71388</td>\n",
       "      <td>1573364.0</td>\n",
       "      <td>0</td>\n",
       "      <td>0</td>\n",
       "      <td>0</td>\n",
       "      <td>0</td>\n",
       "      <td>0</td>\n",
       "      <td>13050.0</td>\n",
       "      <td>168397.5</td>\n",
       "      <td>15195.0</td>\n",
       "      <td>247168.67</td>\n",
       "      <td>71388.0</td>\n",
       "      <td>1</td>\n",
       "      <td>0</td>\n",
       "      <td>0.000137</td>\n",
       "    </tr>\n",
       "    <tr>\n",
       "      <th>4</th>\n",
       "      <td>0</td>\n",
       "      <td>36</td>\n",
       "      <td>M</td>\n",
       "      <td>1671622.89</td>\n",
       "      <td>PROF</td>\n",
       "      <td>36-40</td>\n",
       "      <td>167</td>\n",
       "      <td>24</td>\n",
       "      <td>SA</td>\n",
       "      <td>185</td>\n",
       "      <td>20</td>\n",
       "      <td>1</td>\n",
       "      <td>21</td>\n",
       "      <td>1</td>\n",
       "      <td>0</td>\n",
       "      <td>0</td>\n",
       "      <td>0</td>\n",
       "      <td>0</td>\n",
       "      <td>0</td>\n",
       "      <td>0</td>\n",
       "      <td>808480</td>\n",
       "      <td>0</td>\n",
       "      <td>0.0</td>\n",
       "      <td>0</td>\n",
       "      <td>808480.0</td>\n",
       "      <td>0</td>\n",
       "      <td>0</td>\n",
       "      <td>0</td>\n",
       "      <td>0</td>\n",
       "      <td>0</td>\n",
       "      <td>0.0</td>\n",
       "      <td>808480.0</td>\n",
       "      <td>0.0</td>\n",
       "      <td>0.00</td>\n",
       "      <td>0.0</td>\n",
       "      <td>1</td>\n",
       "      <td>0</td>\n",
       "      <td>0.000174</td>\n",
       "    </tr>\n",
       "  </tbody>\n",
       "</table>\n",
       "</div>"
      ],
      "text/plain": [
       "  TARGET  AGE GENDER     BALANCE OCCUPATION AGE_BKT  SCR  HOLDING_PERIOD  \\\n",
       "0      0   27      M     3383.75   SELF-EMP   26-30  776              30   \n",
       "1      0   47      M   287489.04        SAL   46-50  324              28   \n",
       "2      0   40      M    18216.88   SELF-EMP   36-40  603               2   \n",
       "3      0   53      M    71720.48        SAL     >50  196              13   \n",
       "4      0   36      M  1671622.89       PROF   36-40  167              24   \n",
       "\n",
       "  ACC_TYPE  LEN_OF_RLTN_IN_MNTH  NO_OF_L_CR_TXNS  NO_OF_L_DR_TXNS  \\\n",
       "0       SA                  146                7                3   \n",
       "1       SA                  104                8                2   \n",
       "2       SA                   61               10                5   \n",
       "3       CA                  107               36               14   \n",
       "4       SA                  185               20                1   \n",
       "\n",
       "   TOT_NO_OF_L_TXNS  NO_OF_BR_CSH_WDL_DR_TXNS  NO_OF_ATM_DR_TXNS  \\\n",
       "0                10                         0                  1   \n",
       "1                10                         0                  1   \n",
       "2                15                         1                  1   \n",
       "3                50                         4                  2   \n",
       "4                21                         1                  0   \n",
       "\n",
       "   NO_OF_NET_DR_TXNS  NO_OF_MOB_DR_TXNS  NO_OF_CHQ_DR_TXNS FLG_HAS_CC  \\\n",
       "0                  2                  0                  0          0   \n",
       "1                  1                  0                  0          0   \n",
       "2                  1                  0                  2          0   \n",
       "3                  3                  1                  4          0   \n",
       "4                  0                  0                  0          0   \n",
       "\n",
       "   AMT_ATM_DR  AMT_BR_CSH_WDL_DR  AMT_CHQ_DR  AMT_NET_DR  AMT_MOB_DR  \\\n",
       "0       13100                  0           0    973557.0           0   \n",
       "1        6600                  0           0    799813.0           0   \n",
       "2       11200             561120       49320    997570.0           0   \n",
       "3       26100             673590       60780    741506.0       71388   \n",
       "4           0             808480           0         0.0           0   \n",
       "\n",
       "    AMT_L_DR  FLG_HAS_ANY_CHGS  AMT_OTH_BK_ATM_USG_CHGS  AMT_MIN_BAL_NMC_CHGS  \\\n",
       "0   986657.0                 0                        0                     0   \n",
       "1   806413.0                 1                        0                     0   \n",
       "2  1619210.0                 1                        0                     0   \n",
       "3  1573364.0                 0                        0                     0   \n",
       "4   808480.0                 0                        0                     0   \n",
       "\n",
       "   NO_OF_IW_CHQ_BNC_TXNS  NO_OF_OW_CHQ_BNC_TXNS  AVG_AMT_PER_ATM_TXN  \\\n",
       "0                      0                      0              13100.0   \n",
       "1                      0                      0               6600.0   \n",
       "2                      0                      1              11200.0   \n",
       "3                      0                      0              13050.0   \n",
       "4                      0                      0                  0.0   \n",
       "\n",
       "   AVG_AMT_PER_CSH_WDL_TXN  AVG_AMT_PER_CHQ_TXN  AVG_AMT_PER_NET_TXN  \\\n",
       "0                      0.0                  0.0            486778.50   \n",
       "1                      0.0                  0.0            799813.00   \n",
       "2                 561120.0              24660.0            997570.00   \n",
       "3                 168397.5              15195.0            247168.67   \n",
       "4                 808480.0                  0.0                 0.00   \n",
       "\n",
       "   AVG_AMT_PER_MOB_TXN FLG_HAS_NOMINEE FLG_HAS_OLD_LOAN    random  \n",
       "0                  0.0               1                1  0.000011  \n",
       "1                  0.0               1                0  0.000111  \n",
       "2                  0.0               1                1  0.000120  \n",
       "3              71388.0               1                0  0.000137  \n",
       "4                  0.0               1                0  0.000174  "
      ]
     },
     "execution_count": 762,
     "metadata": {},
     "output_type": "execute_result"
    }
   ],
   "source": [
    "data.head()"
   ]
  },
  {
   "cell_type": "markdown",
   "metadata": {},
   "source": [
    "### Class Distribution"
   ]
  },
  {
   "cell_type": "code",
   "execution_count": 763,
   "metadata": {},
   "outputs": [
    {
     "data": {
      "text/plain": [
       "<matplotlib.axes._subplots.AxesSubplot at 0x20d15b14f28>"
      ]
     },
     "execution_count": 763,
     "metadata": {},
     "output_type": "execute_result"
    },
    {
     "data": {
      "image/png": "[encoded data removed]",
      "text/plain": [
       "<Figure size 432x288 with 1 Axes>"
      ]
     },
     "metadata": {},
     "output_type": "display_data"
    }
   ],
   "source": [
    "sns.set(style='whitegrid')\n",
    "sns.countplot(x='TARGET',data=data)"
   ]
  },
  {
   "cell_type": "markdown",
   "metadata": {},
   "source": [
    "### Splitting Target Variable"
   ]
  },
  {
   "cell_type": "code",
   "execution_count": 764,
   "metadata": {},
   "outputs": [],
   "source": [
    "# Splitting the target variables\n",
    "X = data.iloc[:,1:]\n",
    "y = data.iloc[:,:1].astype('int')"
   ]
  },
  {
   "cell_type": "code",
   "execution_count": 765,
   "metadata": {},
   "outputs": [],
   "source": [
    "cat_var = [col for col in X.columns.values if X[col].dtype == 'object']\n",
    "data_cat = X[cat_var]\n",
    "data_num = X.drop(cat_var,axis=1)"
   ]
  },
  {
   "cell_type": "code",
   "execution_count": 766,
   "metadata": {},
   "outputs": [],
   "source": [
    "data_dummies = pd.get_dummies(data_cat,drop_first=True)"
   ]
  },
  {
   "cell_type": "code",
   "execution_count": 767,
   "metadata": {},
   "outputs": [],
   "source": [
    "X_num = pd.concat([data_num,data_dummies],axis=1)"
   ]
  },
  {
   "cell_type": "code",
   "execution_count": 768,
   "metadata": {},
   "outputs": [
    {
     "data": {
      "text/plain": [
       "(20000, 45)"
      ]
     },
     "execution_count": 768,
     "metadata": {},
     "output_type": "execute_result"
    }
   ],
   "source": [
    "X_num.shape"
   ]
  },
  {
   "cell_type": "code",
   "execution_count": 769,
   "metadata": {},
   "outputs": [
    {
     "data": {
      "text/plain": [
       "TARGET    int32\n",
       "dtype: object"
      ]
     },
     "execution_count": 769,
     "metadata": {},
     "output_type": "execute_result"
    }
   ],
   "source": [
    "y.dtypes"
   ]
  },
  {
   "cell_type": "markdown",
   "metadata": {},
   "source": [
    "### Feature Scaling - MinMax Scaler"
   ]
  },
  {
   "cell_type": "code",
   "execution_count": 770,
   "metadata": {},
   "outputs": [],
   "source": [
    "# Feature Scaling\n",
    "from sklearn.preprocessing import MinMaxScaler\n",
    "scaler = MinMaxScaler()\n",
    "scaled = scaler.fit_transform(X_num)\n",
    "X_scaled = pd.DataFrame(scaled)"
   ]
  },
  {
   "cell_type": "code",
   "execution_count": 771,
   "metadata": {},
   "outputs": [],
   "source": [
    "# Splitting data into training and testing set\n",
    "from sklearn.model_selection import train_test_split\n",
    "X_train,X_test,y_train,y_test = train_test_split(X_scaled,y,test_size=0.25,random_state=0)"
   ]
  },
  {
   "cell_type": "markdown",
   "metadata": {},
   "source": [
    "#### Building a base model using Decision Tree Classifier"
   ]
  },
  {
   "cell_type": "code",
   "execution_count": 773,
   "metadata": {},
   "outputs": [
    {
     "data": {
      "text/plain": [
       "DecisionTreeClassifier(class_weight=None, criterion='entropy', max_depth=None,\n",
       "            max_features=None, max_leaf_nodes=None,\n",
       "            min_impurity_decrease=0.0, min_impurity_split=None,\n",
       "            min_samples_leaf=1, min_samples_split=2,\n",
       "            min_weight_fraction_leaf=0.0, presort=False, random_state=1,\n",
       "            splitter='best')"
      ]
     },
     "execution_count": 773,
     "metadata": {},
     "output_type": "execute_result"
    }
   ],
   "source": [
    "from sklearn.tree import DecisionTreeClassifier\n",
    "model_base = DecisionTreeClassifier(criterion='entropy', random_state=1)\n",
    "model_base.fit(X_train,y_train)"
   ]
  },
  {
   "cell_type": "code",
   "execution_count": 774,
   "metadata": {},
   "outputs": [],
   "source": [
    "y_pred = model_base.predict(X_test)"
   ]
  },
  {
   "cell_type": "markdown",
   "metadata": {},
   "source": [
    "#### ROC-AUC Curve"
   ]
  },
  {
   "cell_type": "code",
   "execution_count": 775,
   "metadata": {},
   "outputs": [
    {
     "data": {
      "image/png": "[encoded data removed]",
      "text/plain": [
       "<Figure size 432x288 with 1 Axes>"
      ]
     },
     "metadata": {},
     "output_type": "display_data"
    }
   ],
   "source": [
    "from sklearn import metrics\n",
    "# Calculate the predicted probability on the test data \n",
    "y_pred_proba = model_base.predict_proba(X_test)[::,1]\n",
    "# Creating the roc curve on y_test and y_pred_proba\n",
    "fpr,tpr,_ = metrics.roc_curve(y_test,y_pred_proba)\n",
    "# Find area under roc curve \n",
    "auc = metrics.roc_auc_score(y_test,y_pred_proba)\n",
    "# Using plt.plot ,plot auc score on the label\n",
    "plt.plot(fpr,tpr,label = 'Attrition, auc ='+str(auc))\n",
    "#Print out label on the graph and loc value \n",
    "plt.legend(loc = 4)\n",
    "#Showing the plot\n",
    "plt.show()"
   ]
  },
  {
   "cell_type": "code",
   "execution_count": 777,
   "metadata": {},
   "outputs": [
    {
     "data": {
      "text/html": [
       "<div>\n",
       "<style scoped>\n",
       "    .dataframe tbody tr th:only-of-type {\n",
       "        vertical-align: middle;\n",
       "    }\n",
       "\n",
       "    .dataframe tbody tr th {\n",
       "        vertical-align: top;\n",
       "    }\n",
       "\n",
       "    .dataframe thead th {\n",
       "        text-align: right;\n",
       "    }\n",
       "</style>\n",
       "<table border=\"1\" class=\"dataframe\">\n",
       "  <thead>\n",
       "    <tr style=\"text-align: right;\">\n",
       "      <th></th>\n",
       "      <th>Model</th>\n",
       "      <th>ROC Score</th>\n",
       "      <th>Precision Score</th>\n",
       "      <th>Recall Score</th>\n",
       "      <th>Accuracy Score</th>\n",
       "      <th>Kappa Score</th>\n",
       "    </tr>\n",
       "  </thead>\n",
       "  <tbody>\n",
       "    <tr>\n",
       "      <th>0</th>\n",
       "      <td>Decision Tree with Entropy</td>\n",
       "      <td>0.867153</td>\n",
       "      <td>0.745185</td>\n",
       "      <td>0.773846</td>\n",
       "      <td>0.9362</td>\n",
       "      <td>0.722488</td>\n",
       "    </tr>\n",
       "  </tbody>\n",
       "</table>\n",
       "</div>"
      ],
      "text/plain": [
       "                          Model  ROC Score  Precision Score  Recall Score  \\\n",
       "0   Decision Tree with Entropy    0.867153         0.745185      0.773846   \n",
       "\n",
       "   Accuracy Score  Kappa Score  \n",
       "0          0.9362     0.722488  "
      ]
     },
     "execution_count": 777,
     "metadata": {},
     "output_type": "execute_result"
    }
   ],
   "source": [
    "# Create a list of parameter \n",
    "cols = ['Model', 'ROC Score', 'Precision Score', 'Recall Score','Accuracy Score','Kappa Score']\n",
    "# Create a dataframe of the above list\n",
    "models_report = pd.DataFrame(columns = cols)\n",
    "# Create a result associated with the list mentioned above.\n",
    "tmp2 = pd.Series({'Model': \" Decision Tree with Entropy \",\n",
    "                 'ROC Score' : metrics.roc_auc_score(y_test, y_pred),\n",
    "                 'Precision Score': metrics.precision_score(y_test, y_pred),\n",
    "                 'Recall Score': metrics.recall_score(y_test, y_pred),\n",
    "                 'Accuracy Score': metrics.accuracy_score(y_test, y_pred),\n",
    "                 'Kappa Score':metrics.cohen_kappa_score(y_test, y_pred)})\n",
    "# Below code will append the above tmp2 series in model_report dataframe\n",
    "model_1 = models_report.append(tmp2, ignore_index = True)\n",
    "model_1"
   ]
  },
  {
   "cell_type": "markdown",
   "metadata": {},
   "source": [
    "#### Building a base model using Random Forest"
   ]
  },
  {
   "cell_type": "code",
   "execution_count": 778,
   "metadata": {},
   "outputs": [],
   "source": [
    "from sklearn.ensemble import RandomForestClassifier\n",
    "#Create random tree classifier object\n",
    "model_rf = RandomForestClassifier(criterion = 'entropy',random_state=0)\n",
    "# Train Model\n",
    "model_rf.fit(X_train,y_train)\n",
    "# Predicting the model\n",
    "y_pred = model_rf.predict(X_test)"
   ]
  },
  {
   "cell_type": "code",
   "execution_count": 779,
   "metadata": {},
   "outputs": [
    {
     "data": {
      "text/html": [
       "<div>\n",
       "<style scoped>\n",
       "    .dataframe tbody tr th:only-of-type {\n",
       "        vertical-align: middle;\n",
       "    }\n",
       "\n",
       "    .dataframe tbody tr th {\n",
       "        vertical-align: top;\n",
       "    }\n",
       "\n",
       "    .dataframe thead th {\n",
       "        text-align: right;\n",
       "    }\n",
       "</style>\n",
       "<table border=\"1\" class=\"dataframe\">\n",
       "  <thead>\n",
       "    <tr style=\"text-align: right;\">\n",
       "      <th></th>\n",
       "      <th>Model</th>\n",
       "      <th>ROC Score</th>\n",
       "      <th>Precision Score</th>\n",
       "      <th>Recall Score</th>\n",
       "      <th>Accuracy Score</th>\n",
       "      <th>Kappa Score</th>\n",
       "    </tr>\n",
       "  </thead>\n",
       "  <tbody>\n",
       "    <tr>\n",
       "      <th>0</th>\n",
       "      <td>Random Forest</td>\n",
       "      <td>0.80939</td>\n",
       "      <td>0.971154</td>\n",
       "      <td>0.621538</td>\n",
       "      <td>0.9484</td>\n",
       "      <td>0.730644</td>\n",
       "    </tr>\n",
       "  </tbody>\n",
       "</table>\n",
       "</div>"
      ],
      "text/plain": [
       "           Model  ROC Score  Precision Score  Recall Score  Accuracy Score  \\\n",
       "0  Random Forest    0.80939         0.971154      0.621538          0.9484   \n",
       "\n",
       "   Kappa Score  \n",
       "0     0.730644  "
      ]
     },
     "execution_count": 779,
     "metadata": {},
     "output_type": "execute_result"
    }
   ],
   "source": [
    "# Create a list of parameter \n",
    "cols = ['Model', 'ROC Score', 'Precision Score', 'Recall Score','Accuracy Score','Kappa Score']\n",
    "# Create a dataframe of the above list\n",
    "models_report = pd.DataFrame(columns = cols)\n",
    "# Create a result associated with the list mentioned above.\n",
    "tmp2 = pd.Series({'Model': \"Random Forest\",\n",
    "                 'ROC Score' : metrics.roc_auc_score(y_test, y_pred),\n",
    "                 'Precision Score': metrics.precision_score(y_test, y_pred),\n",
    "                 'Recall Score': metrics.recall_score(y_test, y_pred),\n",
    "                 'Accuracy Score': metrics.accuracy_score(y_test, y_pred),\n",
    "                 'Kappa Score':metrics.cohen_kappa_score(y_test, y_pred)})\n",
    "# Below code will append the above tmp2 series in model_report dataframe\n",
    "model_2 = models_report.append(tmp2, ignore_index = True)\n",
    "model_2"
   ]
  },
  {
   "cell_type": "markdown",
   "metadata": {},
   "source": [
    "#### Building a base model using XGBoost Classifier"
   ]
  },
  {
   "cell_type": "code",
   "execution_count": 780,
   "metadata": {},
   "outputs": [],
   "source": [
    "from xgboost import XGBClassifier\n",
    "# Create an object instance of XGB Classifier\n",
    "xg_model = XGBClassifier()\n",
    "# Create a train model\n",
    "xg_model.fit(X_train,y_train)\n",
    "# Predict on test data\n",
    "y_pred = xg_model.predict(X_test)"
   ]
  },
  {
   "cell_type": "code",
   "execution_count": 781,
   "metadata": {
    "scrolled": true
   },
   "outputs": [
    {
     "data": {
      "text/html": [
       "<div>\n",
       "<style scoped>\n",
       "    .dataframe tbody tr th:only-of-type {\n",
       "        vertical-align: middle;\n",
       "    }\n",
       "\n",
       "    .dataframe tbody tr th {\n",
       "        vertical-align: top;\n",
       "    }\n",
       "\n",
       "    .dataframe thead th {\n",
       "        text-align: right;\n",
       "    }\n",
       "</style>\n",
       "<table border=\"1\" class=\"dataframe\">\n",
       "  <thead>\n",
       "    <tr style=\"text-align: right;\">\n",
       "      <th></th>\n",
       "      <th>Model</th>\n",
       "      <th>ROC Score</th>\n",
       "      <th>Precision Score</th>\n",
       "      <th>Recall Score</th>\n",
       "      <th>Accuracy Score</th>\n",
       "      <th>Kappa Score</th>\n",
       "    </tr>\n",
       "  </thead>\n",
       "  <tbody>\n",
       "    <tr>\n",
       "      <th>0</th>\n",
       "      <td>XGBoost</td>\n",
       "      <td>0.53939</td>\n",
       "      <td>0.815385</td>\n",
       "      <td>0.081538</td>\n",
       "      <td>0.8782</td>\n",
       "      <td>0.127632</td>\n",
       "    </tr>\n",
       "  </tbody>\n",
       "</table>\n",
       "</div>"
      ],
      "text/plain": [
       "     Model  ROC Score  Precision Score  Recall Score  Accuracy Score  \\\n",
       "0  XGBoost    0.53939         0.815385      0.081538          0.8782   \n",
       "\n",
       "   Kappa Score  \n",
       "0     0.127632  "
      ]
     },
     "execution_count": 781,
     "metadata": {},
     "output_type": "execute_result"
    }
   ],
   "source": [
    "# Create a list of parameter \n",
    "cols = ['Model', 'ROC Score', 'Precision Score', 'Recall Score','Accuracy Score','Kappa Score']\n",
    "# Create a dataframe of the above list\n",
    "models_report = pd.DataFrame(columns = cols)\n",
    "# Create a result associated with the list mentioned above.\n",
    "tmp2 = pd.Series({'Model': \"XGBoost\",\n",
    "                 'ROC Score' : metrics.roc_auc_score(y_test, y_pred),\n",
    "                 'Precision Score': metrics.precision_score(y_test, y_pred),\n",
    "                 'Recall Score': metrics.recall_score(y_test, y_pred),\n",
    "                 'Accuracy Score': metrics.accuracy_score(y_test, y_pred),\n",
    "                 'Kappa Score':metrics.cohen_kappa_score(y_test, y_pred)})\n",
    "# Below code will append the above tmp2 series in model_report dataframe\n",
    "model_3 = models_report.append(tmp2, ignore_index = True)\n",
    "model_3"
   ]
  },
  {
   "cell_type": "markdown",
   "metadata": {},
   "source": [
    "### Feature Selection"
   ]
  },
  {
   "cell_type": "markdown",
   "metadata": {},
   "source": [
    "#### Univariate Feature Selection"
   ]
  },
  {
   "cell_type": "code",
   "execution_count": 782,
   "metadata": {},
   "outputs": [],
   "source": [
    "from sklearn.feature_selection import SelectKBest, chi2\n",
    "# applying SelectKBest Class to extact top 10 features\n",
    "best_features = SelectKBest(score_func=chi2,k=10)\n",
    "fit = best_features.fit(X_num,y)"
   ]
  },
  {
   "cell_type": "code",
   "execution_count": 783,
   "metadata": {},
   "outputs": [],
   "source": [
    "df_score = pd.DataFrame(fit.scores_)\n",
    "df_columns = pd.DataFrame(X_num.columns)"
   ]
  },
  {
   "cell_type": "code",
   "execution_count": 784,
   "metadata": {},
   "outputs": [],
   "source": [
    "# concat 2 dataframes for better visualization\n",
    "feature_scores = pd.concat([df_columns,df_score],axis=1)\n",
    "feature_scores.columns = ['Specs','Score'] # naming the datframe columns"
   ]
  },
  {
   "cell_type": "code",
   "execution_count": 785,
   "metadata": {},
   "outputs": [
    {
     "data": {
      "text/html": [
       "<div>\n",
       "<style scoped>\n",
       "    .dataframe tbody tr th:only-of-type {\n",
       "        vertical-align: middle;\n",
       "    }\n",
       "\n",
       "    .dataframe tbody tr th {\n",
       "        vertical-align: top;\n",
       "    }\n",
       "\n",
       "    .dataframe thead th {\n",
       "        text-align: right;\n",
       "    }\n",
       "</style>\n",
       "<table border=\"1\" class=\"dataframe\">\n",
       "  <thead>\n",
       "    <tr style=\"text-align: right;\">\n",
       "      <th></th>\n",
       "      <th>Specs</th>\n",
       "      <th>Score</th>\n",
       "    </tr>\n",
       "  </thead>\n",
       "  <tbody>\n",
       "    <tr>\n",
       "      <th>0</th>\n",
       "      <td>AGE</td>\n",
       "      <td>2.521218e+01</td>\n",
       "    </tr>\n",
       "    <tr>\n",
       "      <th>1</th>\n",
       "      <td>BALANCE</td>\n",
       "      <td>9.209135e+07</td>\n",
       "    </tr>\n",
       "    <tr>\n",
       "      <th>2</th>\n",
       "      <td>SCR</td>\n",
       "      <td>1.766649e+04</td>\n",
       "    </tr>\n",
       "    <tr>\n",
       "      <th>3</th>\n",
       "      <td>HOLDING_PERIOD</td>\n",
       "      <td>1.832445e+03</td>\n",
       "    </tr>\n",
       "    <tr>\n",
       "      <th>4</th>\n",
       "      <td>LEN_OF_RLTN_IN_MNTH</td>\n",
       "      <td>2.689929e+02</td>\n",
       "    </tr>\n",
       "  </tbody>\n",
       "</table>\n",
       "</div>"
      ],
      "text/plain": [
       "                 Specs         Score\n",
       "0                  AGE  2.521218e+01\n",
       "1              BALANCE  9.209135e+07\n",
       "2                  SCR  1.766649e+04\n",
       "3       HOLDING_PERIOD  1.832445e+03\n",
       "4  LEN_OF_RLTN_IN_MNTH  2.689929e+02"
      ]
     },
     "execution_count": 785,
     "metadata": {},
     "output_type": "execute_result"
    }
   ],
   "source": [
    "feature_scores.head()"
   ]
  },
  {
   "cell_type": "code",
   "execution_count": 788,
   "metadata": {},
   "outputs": [
    {
     "name": "stdout",
     "output_type": "stream",
     "text": [
      "                       Specs         Score\n",
      "18                  AMT_L_DR  1.193542e+08\n",
      "15                AMT_CHQ_DR  1.146023e+08\n",
      "1                    BALANCE  9.209135e+07\n",
      "16                AMT_NET_DR  3.310840e+07\n",
      "17                AMT_MOB_DR  1.512273e+07\n",
      "14         AMT_BR_CSH_WDL_DR  1.357366e+07\n",
      "28       AVG_AMT_PER_MOB_TXN  1.237087e+07\n",
      "26       AVG_AMT_PER_CHQ_TXN  8.273889e+06\n",
      "27       AVG_AMT_PER_NET_TXN  5.857456e+06\n",
      "13                AMT_ATM_DR  2.954261e+06\n",
      "24       AVG_AMT_PER_ATM_TXN  7.892442e+05\n",
      "25   AVG_AMT_PER_CSH_WDL_TXN  2.796530e+04\n",
      "2                        SCR  1.766649e+04\n",
      "7           TOT_NO_OF_L_TXNS  6.013670e+03\n",
      "5            NO_OF_L_CR_TXNS  3.460294e+03\n",
      "20   AMT_OTH_BK_ATM_USG_CHGS  2.969712e+03\n",
      "6            NO_OF_L_DR_TXNS  2.685278e+03\n",
      "3             HOLDING_PERIOD  1.832445e+03\n",
      "10         NO_OF_NET_DR_TXNS  9.290677e+02\n",
      "11         NO_OF_MOB_DR_TXNS  5.822798e+02\n",
      "12         NO_OF_CHQ_DR_TXNS  5.703906e+02\n",
      "8   NO_OF_BR_CSH_WDL_DR_TXNS  5.651716e+02\n",
      "9          NO_OF_ATM_DR_TXNS  2.955392e+02\n"
     ]
    }
   ],
   "source": [
    "print(feature_scores.nlargest(23,'Score')) # print top 23 features"
   ]
  },
  {
   "cell_type": "code",
   "execution_count": 789,
   "metadata": {
    "scrolled": false
   },
   "outputs": [
    {
     "data": {
      "text/plain": [
       "array(['AMT_L_DR', 'AMT_CHQ_DR', 'BALANCE', 'AMT_NET_DR', 'AMT_MOB_DR',\n",
       "       'AMT_BR_CSH_WDL_DR', 'AVG_AMT_PER_MOB_TXN', 'AVG_AMT_PER_CHQ_TXN',\n",
       "       'AVG_AMT_PER_NET_TXN', 'AMT_ATM_DR', 'AVG_AMT_PER_ATM_TXN',\n",
       "       'AVG_AMT_PER_CSH_WDL_TXN', 'SCR', 'TOT_NO_OF_L_TXNS',\n",
       "       'NO_OF_L_CR_TXNS', 'AMT_OTH_BK_ATM_USG_CHGS', 'NO_OF_L_DR_TXNS',\n",
       "       'HOLDING_PERIOD', 'NO_OF_NET_DR_TXNS', 'NO_OF_MOB_DR_TXNS',\n",
       "       'NO_OF_CHQ_DR_TXNS', 'NO_OF_BR_CSH_WDL_DR_TXNS',\n",
       "       'NO_OF_ATM_DR_TXNS'], dtype=object)"
      ]
     },
     "execution_count": 789,
     "metadata": {},
     "output_type": "execute_result"
    }
   ],
   "source": [
    "feature_scores.nlargest(23,'Score').Specs.values"
   ]
  },
  {
   "cell_type": "code",
   "execution_count": 790,
   "metadata": {},
   "outputs": [],
   "source": [
    "X_num_uv = X_num[['AMT_L_DR', 'AMT_CHQ_DR', 'BALANCE', 'AMT_NET_DR', 'AMT_MOB_DR',\n",
    "       'AMT_BR_CSH_WDL_DR', 'AVG_AMT_PER_MOB_TXN', 'AVG_AMT_PER_CHQ_TXN',\n",
    "       'AVG_AMT_PER_NET_TXN', 'AMT_ATM_DR', 'AVG_AMT_PER_ATM_TXN',\n",
    "       'AVG_AMT_PER_CSH_WDL_TXN', 'SCR', 'TOT_NO_OF_L_TXNS',\n",
    "       'NO_OF_L_CR_TXNS', 'AMT_OTH_BK_ATM_USG_CHGS', 'NO_OF_L_DR_TXNS',\n",
    "       'HOLDING_PERIOD', 'NO_OF_NET_DR_TXNS', 'NO_OF_MOB_DR_TXNS',\n",
    "       'NO_OF_CHQ_DR_TXNS', 'NO_OF_BR_CSH_WDL_DR_TXNS',\n",
    "       'NO_OF_ATM_DR_TXNS']]"
   ]
  },
  {
   "cell_type": "code",
   "execution_count": 791,
   "metadata": {},
   "outputs": [],
   "source": [
    "# Feature Scaling\n",
    "from sklearn.preprocessing import MinMaxScaler\n",
    "scaler = MinMaxScaler()\n",
    "scaled = scaler.fit_transform(X_num_uv)\n",
    "X_scaled_uv = pd.DataFrame(scaled)"
   ]
  },
  {
   "cell_type": "markdown",
   "metadata": {},
   "source": [
    "#### Decision Tree Classifier"
   ]
  },
  {
   "cell_type": "code",
   "execution_count": 792,
   "metadata": {},
   "outputs": [],
   "source": [
    "### Splitting the data after feature selection\n",
    "# Splitting data into training and testing set\n",
    "from sklearn.model_selection import train_test_split\n",
    "X_train,X_test,y_train,y_test = train_test_split(X_scaled_uv,y,test_size=0.25,random_state=0)"
   ]
  },
  {
   "cell_type": "code",
   "execution_count": 793,
   "metadata": {},
   "outputs": [
    {
     "data": {
      "text/plain": [
       "DecisionTreeClassifier(class_weight=None, criterion='entropy', max_depth=None,\n",
       "            max_features=None, max_leaf_nodes=None,\n",
       "            min_impurity_decrease=0.0, min_impurity_split=None,\n",
       "            min_samples_leaf=1, min_samples_split=2,\n",
       "            min_weight_fraction_leaf=0.0, presort=False, random_state=0,\n",
       "            splitter='best')"
      ]
     },
     "execution_count": 793,
     "metadata": {},
     "output_type": "execute_result"
    }
   ],
   "source": [
    "# Building a Decision Tree model using 'gini' solver and splitter 'best'\n",
    "model_uv = DecisionTreeClassifier(criterion='entropy', random_state=0)\n",
    "model_uv.fit(X_train,y_train)"
   ]
  },
  {
   "cell_type": "code",
   "execution_count": 794,
   "metadata": {},
   "outputs": [],
   "source": [
    "y_pred = model_uv.predict(X_test)"
   ]
  },
  {
   "cell_type": "markdown",
   "metadata": {},
   "source": [
    "#### AUC-ROC Curve"
   ]
  },
  {
   "cell_type": "code",
   "execution_count": 795,
   "metadata": {},
   "outputs": [
    {
     "data": {
      "image/png": "[encoded data removed]",
      "text/plain": [
       "<Figure size 432x288 with 1 Axes>"
      ]
     },
     "metadata": {},
     "output_type": "display_data"
    }
   ],
   "source": [
    "from sklearn import metrics\n",
    "# Calculate the predicted probability on the test data \n",
    "y_pred_proba = model_uv.predict_proba(X_test)[::,1]\n",
    "# Creating the roc curve on y_test and y_pred_proba\n",
    "fpr,tpr,_ = metrics.roc_curve(y_test,y_pred_proba)\n",
    "# Find area under roc curve \n",
    "auc = metrics.roc_auc_score(y_test,y_pred_proba)\n",
    "# Using plt.plot ,plot auc score on the label\n",
    "plt.plot(fpr,tpr,label = 'Attrition, auc ='+str(auc))\n",
    "#Print out label on the graph and loc value \n",
    "plt.legend(loc = 4)\n",
    "#Showing the plot\n",
    "plt.show()"
   ]
  },
  {
   "cell_type": "code",
   "execution_count": 796,
   "metadata": {},
   "outputs": [
    {
     "data": {
      "text/html": [
       "<div>\n",
       "<style scoped>\n",
       "    .dataframe tbody tr th:only-of-type {\n",
       "        vertical-align: middle;\n",
       "    }\n",
       "\n",
       "    .dataframe tbody tr th {\n",
       "        vertical-align: top;\n",
       "    }\n",
       "\n",
       "    .dataframe thead th {\n",
       "        text-align: right;\n",
       "    }\n",
       "</style>\n",
       "<table border=\"1\" class=\"dataframe\">\n",
       "  <thead>\n",
       "    <tr style=\"text-align: right;\">\n",
       "      <th></th>\n",
       "      <th>Model</th>\n",
       "      <th>ROC Score</th>\n",
       "      <th>Precision Score</th>\n",
       "      <th>Recall Score</th>\n",
       "      <th>Accuracy Score</th>\n",
       "      <th>Kappa Score</th>\n",
       "    </tr>\n",
       "  </thead>\n",
       "  <tbody>\n",
       "    <tr>\n",
       "      <th>0</th>\n",
       "      <td>Decision Tree with UV</td>\n",
       "      <td>0.880292</td>\n",
       "      <td>0.788668</td>\n",
       "      <td>0.792308</td>\n",
       "      <td>0.9454</td>\n",
       "      <td>0.759094</td>\n",
       "    </tr>\n",
       "  </tbody>\n",
       "</table>\n",
       "</div>"
      ],
      "text/plain": [
       "                     Model  ROC Score  Precision Score  Recall Score  \\\n",
       "0   Decision Tree with UV    0.880292         0.788668      0.792308   \n",
       "\n",
       "   Accuracy Score  Kappa Score  \n",
       "0          0.9454     0.759094  "
      ]
     },
     "execution_count": 796,
     "metadata": {},
     "output_type": "execute_result"
    }
   ],
   "source": [
    "# Create a list of parameter \n",
    "cols = ['Model', 'ROC Score', 'Precision Score', 'Recall Score','Accuracy Score','Kappa Score']\n",
    "# Create a dataframe of the above list\n",
    "models_report = pd.DataFrame(columns = cols)\n",
    "# Create a result associated with the list mentioned above.\n",
    "tmp2 = pd.Series({'Model': \" Decision Tree with UV \",\n",
    "                 'ROC Score' : metrics.roc_auc_score(y_test, y_pred),\n",
    "                 'Precision Score': metrics.precision_score(y_test, y_pred),\n",
    "                 'Recall Score': metrics.recall_score(y_test, y_pred),\n",
    "                 'Accuracy Score': metrics.accuracy_score(y_test, y_pred),\n",
    "                 'Kappa Score':metrics.cohen_kappa_score(y_test, y_pred)})\n",
    "# Below code will append the above tmp2 series in model_report dataframe\n",
    "model_4 = models_report.append(tmp2, ignore_index = True)\n",
    "model_4"
   ]
  },
  {
   "cell_type": "markdown",
   "metadata": {},
   "source": [
    "#### Grid Search"
   ]
  },
  {
   "cell_type": "code",
   "execution_count": 797,
   "metadata": {},
   "outputs": [],
   "source": [
    "# Set the parameters for grid search\n",
    "grid_search_parameters = {'criterion':['gini','entropy'],\n",
    "                          'min_samples_split':[2],\n",
    "                          'max_depth': [None,2, 3],\n",
    "                         'min_samples_leaf': [1,5],\n",
    "                          'max_leaf_nodes':[None],\n",
    "                         }"
   ]
  },
  {
   "cell_type": "code",
   "execution_count": 798,
   "metadata": {},
   "outputs": [
    {
     "data": {
      "text/plain": [
       "GridSearchCV(cv=10, error_score='raise',\n",
       "       estimator=DecisionTreeClassifier(class_weight=None, criterion='gini', max_depth=None,\n",
       "            max_features=None, max_leaf_nodes=None,\n",
       "            min_impurity_decrease=0.0, min_impurity_split=None,\n",
       "            min_samples_leaf=1, min_samples_split=2,\n",
       "            min_weight_fraction_leaf=0.0, presort=False, random_state=None,\n",
       "            splitter='best'),\n",
       "       fit_params=None, iid=True, n_jobs=1,\n",
       "       param_grid={'criterion': ['gini', 'entropy'], 'min_samples_split': [2], 'max_depth': [None, 2, 3], 'min_samples_leaf': [1, 5], 'max_leaf_nodes': [None]},\n",
       "       pre_dispatch='2*n_jobs', refit=True, return_train_score='warn',\n",
       "       scoring=None, verbose=0)"
      ]
     },
     "execution_count": 798,
     "metadata": {},
     "output_type": "execute_result"
    }
   ],
   "source": [
    "# Import GridSearchCV\n",
    "from sklearn.model_selection import GridSearchCV\n",
    "# Create an instance of Decision Tree Classifier()\n",
    "classifier = DecisionTreeClassifier()\n",
    "# Use GridSearchCV() , pass the values you have set for grid search\n",
    "model_uv_Grid = GridSearchCV(classifier, grid_search_parameters,cv = 10)\n",
    "#Creating a train model using Grid Search\n",
    "model_uv_Grid.fit(X_train,y_train)"
   ]
  },
  {
   "cell_type": "code",
   "execution_count": 799,
   "metadata": {},
   "outputs": [],
   "source": [
    "y_pred = model_uv_Grid.predict(X_test)"
   ]
  },
  {
   "cell_type": "code",
   "execution_count": 801,
   "metadata": {},
   "outputs": [
    {
     "data": {
      "text/html": [
       "<div>\n",
       "<style scoped>\n",
       "    .dataframe tbody tr th:only-of-type {\n",
       "        vertical-align: middle;\n",
       "    }\n",
       "\n",
       "    .dataframe tbody tr th {\n",
       "        vertical-align: top;\n",
       "    }\n",
       "\n",
       "    .dataframe thead th {\n",
       "        text-align: right;\n",
       "    }\n",
       "</style>\n",
       "<table border=\"1\" class=\"dataframe\">\n",
       "  <thead>\n",
       "    <tr style=\"text-align: right;\">\n",
       "      <th></th>\n",
       "      <th>Model</th>\n",
       "      <th>ROC Score</th>\n",
       "      <th>Precision Score</th>\n",
       "      <th>Recall Score</th>\n",
       "      <th>Accuracy Score</th>\n",
       "      <th>Kappa Score</th>\n",
       "    </tr>\n",
       "  </thead>\n",
       "  <tbody>\n",
       "    <tr>\n",
       "      <th>0</th>\n",
       "      <td>Decision Tree Grid Search</td>\n",
       "      <td>0.881485</td>\n",
       "      <td>0.785714</td>\n",
       "      <td>0.795385</td>\n",
       "      <td>0.9452</td>\n",
       "      <td>0.758998</td>\n",
       "    </tr>\n",
       "  </tbody>\n",
       "</table>\n",
       "</div>"
      ],
      "text/plain": [
       "                         Model  ROC Score  Precision Score  Recall Score  \\\n",
       "0   Decision Tree Grid Search    0.881485         0.785714      0.795385   \n",
       "\n",
       "   Accuracy Score  Kappa Score  \n",
       "0          0.9452     0.758998  "
      ]
     },
     "execution_count": 801,
     "metadata": {},
     "output_type": "execute_result"
    }
   ],
   "source": [
    "# Create a list of parameter \n",
    "cols = ['Model', 'ROC Score', 'Precision Score', 'Recall Score','Accuracy Score','Kappa Score']\n",
    "# Create a dataframe of the above list\n",
    "models_report = pd.DataFrame(columns = cols)\n",
    "# Create a result associated with the list mentioned above.\n",
    "tmp2 = pd.Series({'Model': \" Decision Tree Grid Search \",\n",
    "                 'ROC Score' : metrics.roc_auc_score(y_test, y_pred),\n",
    "                 'Precision Score': metrics.precision_score(y_test, y_pred),\n",
    "                 'Recall Score': metrics.recall_score(y_test, y_pred),\n",
    "                 'Accuracy Score': metrics.accuracy_score(y_test, y_pred),\n",
    "                 'Kappa Score':metrics.cohen_kappa_score(y_test, y_pred)})\n",
    "# Below code will append the above tmp2 series in model_report dataframe\n",
    "model_5 = models_report.append(tmp2, ignore_index = True)\n",
    "model_5"
   ]
  },
  {
   "cell_type": "markdown",
   "metadata": {},
   "source": [
    "#### Random Search"
   ]
  },
  {
   "cell_type": "code",
   "execution_count": 802,
   "metadata": {},
   "outputs": [],
   "source": [
    "# Set the parameters for grid search\n",
    "random_grid = {'criterion':['gini','entropy'],\n",
    "                          'min_samples_split':[2],\n",
    "                          'max_depth': [None,2, 3],\n",
    "                         'min_samples_leaf': [1,5],\n",
    "                          'max_leaf_nodes':[None],\n",
    "                         }"
   ]
  },
  {
   "cell_type": "code",
   "execution_count": 803,
   "metadata": {},
   "outputs": [],
   "source": [
    "# Random search of parameters, using 5 fold cross validation, \n",
    "dt_Random = RandomizedSearchCV(estimator = model_uv,param_distributions = random_grid,n_iter = 10,cv = 5,\n",
    "                               random_state = 0 )\n",
    "# Fit the random search model\n",
    "dt_Random.fit(X_train, y_train)\n",
    "y_pred = dt_Random.predict(X_test)"
   ]
  },
  {
   "cell_type": "code",
   "execution_count": 804,
   "metadata": {},
   "outputs": [
    {
     "data": {
      "text/html": [
       "<div>\n",
       "<style scoped>\n",
       "    .dataframe tbody tr th:only-of-type {\n",
       "        vertical-align: middle;\n",
       "    }\n",
       "\n",
       "    .dataframe tbody tr th {\n",
       "        vertical-align: top;\n",
       "    }\n",
       "\n",
       "    .dataframe thead th {\n",
       "        text-align: right;\n",
       "    }\n",
       "</style>\n",
       "<table border=\"1\" class=\"dataframe\">\n",
       "  <thead>\n",
       "    <tr style=\"text-align: right;\">\n",
       "      <th></th>\n",
       "      <th>Model</th>\n",
       "      <th>ROC Score</th>\n",
       "      <th>Precision Score</th>\n",
       "      <th>Recall Score</th>\n",
       "      <th>Accuracy Score</th>\n",
       "      <th>Kappa Score</th>\n",
       "    </tr>\n",
       "  </thead>\n",
       "  <tbody>\n",
       "    <tr>\n",
       "      <th>0</th>\n",
       "      <td>Decision Tree Random Search</td>\n",
       "      <td>0.880292</td>\n",
       "      <td>0.788668</td>\n",
       "      <td>0.792308</td>\n",
       "      <td>0.9454</td>\n",
       "      <td>0.759094</td>\n",
       "    </tr>\n",
       "  </tbody>\n",
       "</table>\n",
       "</div>"
      ],
      "text/plain": [
       "                         Model  ROC Score  Precision Score  Recall Score  \\\n",
       "0  Decision Tree Random Search   0.880292         0.788668      0.792308   \n",
       "\n",
       "   Accuracy Score  Kappa Score  \n",
       "0          0.9454     0.759094  "
      ]
     },
     "execution_count": 804,
     "metadata": {},
     "output_type": "execute_result"
    }
   ],
   "source": [
    "# Create a list of parameter \n",
    "cols = ['Model', 'ROC Score', 'Precision Score', 'Recall Score','Accuracy Score','Kappa Score']\n",
    "# Create a dataframe of the above list\n",
    "models_report = pd.DataFrame(columns = cols)\n",
    "# Create a result associated with the list mentioned above.\n",
    "tmp2 = pd.Series({'Model': \"Decision Tree Random Search\",\n",
    "                 'ROC Score' : metrics.roc_auc_score(y_test, y_pred),\n",
    "                 'Precision Score': metrics.precision_score(y_test, y_pred),\n",
    "                 'Recall Score': metrics.recall_score(y_test, y_pred),\n",
    "                 'Accuracy Score': metrics.accuracy_score(y_test, y_pred),\n",
    "                 'Kappa Score':metrics.cohen_kappa_score(y_test, y_pred)})\n",
    "# Below code will append the above tmp2 series in model_report dataframe\n",
    "model_6 = models_report.append(tmp2, ignore_index = True)\n",
    "model_6"
   ]
  },
  {
   "cell_type": "markdown",
   "metadata": {},
   "source": [
    "#### Building Random Forest Classsifier after Feature Selection"
   ]
  },
  {
   "cell_type": "code",
   "execution_count": 844,
   "metadata": {},
   "outputs": [],
   "source": [
    "from sklearn.ensemble import RandomForestClassifier\n",
    "#Create random tree classifier object\n",
    "model_rf_uv = RandomForestClassifier(criterion = 'entropy',random_state=0)\n",
    "# Train Model\n",
    "model_rf_uv.fit(X_train,y_train)\n",
    "# Predicting the model\n",
    "y_pred = model_rf_uv.predict(X_test)"
   ]
  },
  {
   "cell_type": "markdown",
   "metadata": {},
   "source": [
    "#### AUC-ROC Curve"
   ]
  },
  {
   "cell_type": "code",
   "execution_count": 845,
   "metadata": {},
   "outputs": [
    {
     "data": {
      "image/png": "[encoded data removed]",
      "text/plain": [
       "<Figure size 432x288 with 1 Axes>"
      ]
     },
     "metadata": {},
     "output_type": "display_data"
    }
   ],
   "source": [
    "from sklearn import metrics\n",
    "# Calculate the predicted probability on the test data \n",
    "y_pred_proba = model_rf_uv.predict_proba(X_test)[::,1]\n",
    "# Creating the roc curve on y_test and y_pred_proba\n",
    "fpr,tpr,_ = metrics.roc_curve(y_test,y_pred_proba)\n",
    "# Find area under roc curve \n",
    "auc = metrics.roc_auc_score(y_test,y_pred_proba)\n",
    "# Using plt.plot ,plot auc score on the label\n",
    "plt.plot(fpr,tpr,label = 'Attrition, auc ='+str(auc))\n",
    "#Print out label on the graph and loc value \n",
    "plt.legend(loc = 4)\n",
    "#Showing the plot\n",
    "plt.show()"
   ]
  },
  {
   "cell_type": "code",
   "execution_count": 846,
   "metadata": {},
   "outputs": [
    {
     "data": {
      "text/html": [
       "<div>\n",
       "<style scoped>\n",
       "    .dataframe tbody tr th:only-of-type {\n",
       "        vertical-align: middle;\n",
       "    }\n",
       "\n",
       "    .dataframe tbody tr th {\n",
       "        vertical-align: top;\n",
       "    }\n",
       "\n",
       "    .dataframe thead th {\n",
       "        text-align: right;\n",
       "    }\n",
       "</style>\n",
       "<table border=\"1\" class=\"dataframe\">\n",
       "  <thead>\n",
       "    <tr style=\"text-align: right;\">\n",
       "      <th></th>\n",
       "      <th>Model</th>\n",
       "      <th>ROC Score</th>\n",
       "      <th>Precision Score</th>\n",
       "      <th>Recall Score</th>\n",
       "      <th>Accuracy Score</th>\n",
       "      <th>Kappa Score</th>\n",
       "    </tr>\n",
       "  </thead>\n",
       "  <tbody>\n",
       "    <tr>\n",
       "      <th>0</th>\n",
       "      <td>Random Forest with UV</td>\n",
       "      <td>0.739661</td>\n",
       "      <td>0.935583</td>\n",
       "      <td>0.484127</td>\n",
       "      <td>0.9308</td>\n",
       "      <td>0.60405</td>\n",
       "    </tr>\n",
       "  </tbody>\n",
       "</table>\n",
       "</div>"
      ],
      "text/plain": [
       "                     Model  ROC Score  Precision Score  Recall Score  \\\n",
       "0   Random Forest with UV    0.739661         0.935583      0.484127   \n",
       "\n",
       "   Accuracy Score  Kappa Score  \n",
       "0          0.9308      0.60405  "
      ]
     },
     "execution_count": 846,
     "metadata": {},
     "output_type": "execute_result"
    }
   ],
   "source": [
    "# Create a list of parameter \n",
    "cols = ['Model', 'ROC Score', 'Precision Score', 'Recall Score','Accuracy Score','Kappa Score']\n",
    "# Create a dataframe of the above list\n",
    "models_report = pd.DataFrame(columns = cols)\n",
    "# Create a result associated with the list mentioned above.\n",
    "tmp2 = pd.Series({'Model': \" Random Forest with UV \",\n",
    "                 'ROC Score' : metrics.roc_auc_score(y_test, y_pred),\n",
    "                 'Precision Score': metrics.precision_score(y_test, y_pred),\n",
    "                 'Recall Score': metrics.recall_score(y_test, y_pred),\n",
    "                 'Accuracy Score': metrics.accuracy_score(y_test, y_pred),\n",
    "                 'Kappa Score':metrics.cohen_kappa_score(y_test, y_pred)})\n",
    "# Below code will append the above tmp2 series in model_report dataframe\n",
    "model_7 = models_report.append(tmp2, ignore_index = True)\n",
    "model_7"
   ]
  },
  {
   "cell_type": "markdown",
   "metadata": {},
   "source": [
    "#### Random Search"
   ]
  },
  {
   "cell_type": "code",
   "execution_count": 808,
   "metadata": {},
   "outputs": [],
   "source": [
    "from sklearn.model_selection import RandomizedSearchCV\n",
    "# Creating a parameter for the random grid\n",
    "n_estimators =[int(x) for x in np.linspace(start = 1,stop = 5,num = 5)]\n",
    "max_features = ['auto','sqrt']\n",
    "max_depth = [int(x) for x in np.linspace(1, 10, num = 10)]\n",
    "max_depth.append(None)\n",
    "min_samples_split = [2, 5, 10]\n",
    "min_samples_leaf = [1, 2, 4]\n",
    "bootstrap = [True]"
   ]
  },
  {
   "cell_type": "code",
   "execution_count": 809,
   "metadata": {},
   "outputs": [],
   "source": [
    "# Create Random Grid\n",
    "random_grid = {'n_estimators': n_estimators,\n",
    "               'max_features': max_features,\n",
    "               'max_depth': max_depth,\n",
    "               'min_samples_split': min_samples_split,\n",
    "               'min_samples_leaf': min_samples_leaf,\n",
    "               'bootstrap': bootstrap}"
   ]
  },
  {
   "cell_type": "code",
   "execution_count": 810,
   "metadata": {},
   "outputs": [],
   "source": [
    "# Random search of parameters, using 5 fold cross validation, \n",
    "rf_Random = RandomizedSearchCV(estimator = model_rf,param_distributions = random_grid,n_iter = 10,cv = 5,\n",
    "                               random_state = 0 )\n",
    "# Fit the random search model\n",
    "rf_Random.fit(X_train, y_train)\n",
    "y_pred = rf_Random.predict(X_test)"
   ]
  },
  {
   "cell_type": "code",
   "execution_count": 812,
   "metadata": {},
   "outputs": [
    {
     "data": {
      "text/html": [
       "<div>\n",
       "<style scoped>\n",
       "    .dataframe tbody tr th:only-of-type {\n",
       "        vertical-align: middle;\n",
       "    }\n",
       "\n",
       "    .dataframe tbody tr th {\n",
       "        vertical-align: top;\n",
       "    }\n",
       "\n",
       "    .dataframe thead th {\n",
       "        text-align: right;\n",
       "    }\n",
       "</style>\n",
       "<table border=\"1\" class=\"dataframe\">\n",
       "  <thead>\n",
       "    <tr style=\"text-align: right;\">\n",
       "      <th></th>\n",
       "      <th>Model</th>\n",
       "      <th>ROC Score</th>\n",
       "      <th>Precision Score</th>\n",
       "      <th>Recall Score</th>\n",
       "      <th>Accuracy Score</th>\n",
       "      <th>Kappa Score</th>\n",
       "    </tr>\n",
       "  </thead>\n",
       "  <tbody>\n",
       "    <tr>\n",
       "      <th>0</th>\n",
       "      <td>Random Forest using Random Search</td>\n",
       "      <td>0.538506</td>\n",
       "      <td>0.8</td>\n",
       "      <td>0.08</td>\n",
       "      <td>0.8778</td>\n",
       "      <td>0.124767</td>\n",
       "    </tr>\n",
       "  </tbody>\n",
       "</table>\n",
       "</div>"
      ],
      "text/plain": [
       "                                 Model  ROC Score  Precision Score  \\\n",
       "0   Random Forest using Random Search    0.538506              0.8   \n",
       "\n",
       "   Recall Score  Accuracy Score  Kappa Score  \n",
       "0          0.08          0.8778     0.124767  "
      ]
     },
     "execution_count": 812,
     "metadata": {},
     "output_type": "execute_result"
    }
   ],
   "source": [
    "# Create a result associated with the list mentioned above.\n",
    "tmp3 = pd.Series({'Model': \" Random Forest using Random Search \",\n",
    "                 'ROC Score' : metrics.roc_auc_score(y_test, y_pred),\n",
    "                 'Precision Score': metrics.precision_score(y_test, y_pred),\n",
    "                 'Recall Score': metrics.recall_score(y_test, y_pred),\n",
    "                 'Accuracy Score': metrics.accuracy_score(y_test, y_pred),\n",
    "                 'Kappa Score':metrics.cohen_kappa_score(y_test, y_pred)})\n",
    "\n",
    "# Below code will append the above tmp2 series in model_report dataframe\n",
    "model_8 = models_report.append(tmp3, ignore_index = True)\n",
    "model_8"
   ]
  },
  {
   "cell_type": "markdown",
   "metadata": {},
   "source": [
    "#### Bagging"
   ]
  },
  {
   "cell_type": "code",
   "execution_count": 814,
   "metadata": {},
   "outputs": [],
   "source": [
    "from sklearn.ensemble import BaggingClassifier\n",
    "#Creating an object instance of Bagging Classifier\n",
    "bagging = BaggingClassifier(model_rf_uv, random_state=1)\n",
    "# Creating a train model after performing bagging\n",
    "bagging.fit(X_train, y_train)\n",
    "y_pred = bagging.predict(X_test)"
   ]
  },
  {
   "cell_type": "code",
   "execution_count": 815,
   "metadata": {},
   "outputs": [
    {
     "data": {
      "text/html": [
       "<div>\n",
       "<style scoped>\n",
       "    .dataframe tbody tr th:only-of-type {\n",
       "        vertical-align: middle;\n",
       "    }\n",
       "\n",
       "    .dataframe tbody tr th {\n",
       "        vertical-align: top;\n",
       "    }\n",
       "\n",
       "    .dataframe thead th {\n",
       "        text-align: right;\n",
       "    }\n",
       "</style>\n",
       "<table border=\"1\" class=\"dataframe\">\n",
       "  <thead>\n",
       "    <tr style=\"text-align: right;\">\n",
       "      <th></th>\n",
       "      <th>Model</th>\n",
       "      <th>ROC Score</th>\n",
       "      <th>Precision Score</th>\n",
       "      <th>Recall Score</th>\n",
       "      <th>Accuracy Score</th>\n",
       "      <th>Kappa Score</th>\n",
       "    </tr>\n",
       "  </thead>\n",
       "  <tbody>\n",
       "    <tr>\n",
       "      <th>0</th>\n",
       "      <td>Random Forest with BaggingClassifier</td>\n",
       "      <td>0.792078</td>\n",
       "      <td>0.994764</td>\n",
       "      <td>0.584615</td>\n",
       "      <td>0.9456</td>\n",
       "      <td>0.708367</td>\n",
       "    </tr>\n",
       "  </tbody>\n",
       "</table>\n",
       "</div>"
      ],
      "text/plain": [
       "                                    Model  ROC Score  Precision Score  \\\n",
       "0   Random Forest with BaggingClassifier    0.792078         0.994764   \n",
       "\n",
       "   Recall Score  Accuracy Score  Kappa Score  \n",
       "0      0.584615          0.9456     0.708367  "
      ]
     },
     "execution_count": 815,
     "metadata": {},
     "output_type": "execute_result"
    }
   ],
   "source": [
    "# Create a result associated with the list mentioned above.\n",
    "tmp2 = pd.Series({'Model': \" Random Forest with BaggingClassifier \",\n",
    "                 'ROC Score' : metrics.roc_auc_score(y_test, y_pred),\n",
    "                 'Precision Score': metrics.precision_score(y_test,y_pred),\n",
    "                 'Recall Score': metrics.recall_score(y_test,y_pred),\n",
    "                 'Accuracy Score': metrics.accuracy_score(y_test,y_pred),\n",
    "                 'Kappa Score':metrics.cohen_kappa_score(y_test,y_pred)})\n",
    "\n",
    "# Below code will append the above tmp2 series in model_report dataframe\n",
    "model_9 = models_report.append(tmp2, ignore_index = True)\n",
    "model_9"
   ]
  },
  {
   "cell_type": "markdown",
   "metadata": {},
   "source": [
    "#### XGBoost Classifier after Feature Selection"
   ]
  },
  {
   "cell_type": "code",
   "execution_count": 817,
   "metadata": {},
   "outputs": [],
   "source": [
    "from xgboost import XGBClassifier\n",
    "# Create an object instance of XGB Classifier\n",
    "xg_model = XGBClassifier()\n",
    "# Create a train model\n",
    "xg_model.fit(X_train,y_train)\n",
    "# Predict on test data\n",
    "y_pred = xg_model.predict(X_test)"
   ]
  },
  {
   "cell_type": "code",
   "execution_count": 818,
   "metadata": {},
   "outputs": [
    {
     "data": {
      "text/html": [
       "<div>\n",
       "<style scoped>\n",
       "    .dataframe tbody tr th:only-of-type {\n",
       "        vertical-align: middle;\n",
       "    }\n",
       "\n",
       "    .dataframe tbody tr th {\n",
       "        vertical-align: top;\n",
       "    }\n",
       "\n",
       "    .dataframe thead th {\n",
       "        text-align: right;\n",
       "    }\n",
       "</style>\n",
       "<table border=\"1\" class=\"dataframe\">\n",
       "  <thead>\n",
       "    <tr style=\"text-align: right;\">\n",
       "      <th></th>\n",
       "      <th>Model</th>\n",
       "      <th>ROC Score</th>\n",
       "      <th>Precision Score</th>\n",
       "      <th>Recall Score</th>\n",
       "      <th>Accuracy Score</th>\n",
       "      <th>Kappa Score</th>\n",
       "    </tr>\n",
       "  </thead>\n",
       "  <tbody>\n",
       "    <tr>\n",
       "      <th>0</th>\n",
       "      <td>XGBoost</td>\n",
       "      <td>0.524271</td>\n",
       "      <td>0.914286</td>\n",
       "      <td>0.049231</td>\n",
       "      <td>0.8758</td>\n",
       "      <td>0.081225</td>\n",
       "    </tr>\n",
       "  </tbody>\n",
       "</table>\n",
       "</div>"
      ],
      "text/plain": [
       "     Model  ROC Score  Precision Score  Recall Score  Accuracy Score  \\\n",
       "0  XGBoost   0.524271         0.914286      0.049231          0.8758   \n",
       "\n",
       "   Kappa Score  \n",
       "0     0.081225  "
      ]
     },
     "execution_count": 818,
     "metadata": {},
     "output_type": "execute_result"
    }
   ],
   "source": [
    "# Create a list of parameter \n",
    "cols = ['Model', 'ROC Score', 'Precision Score', 'Recall Score','Accuracy Score','Kappa Score']\n",
    "# Create a dataframe of the above list\n",
    "models_report = pd.DataFrame(columns = cols)\n",
    "# Create a result associated with the list mentioned above.\n",
    "tmp2 = pd.Series({'Model': \"XGBoost\",\n",
    "                 'ROC Score' : metrics.roc_auc_score(y_test, y_pred),\n",
    "                 'Precision Score': metrics.precision_score(y_test, y_pred),\n",
    "                 'Recall Score': metrics.recall_score(y_test, y_pred),\n",
    "                 'Accuracy Score': metrics.accuracy_score(y_test, y_pred),\n",
    "                 'Kappa Score':metrics.cohen_kappa_score(y_test, y_pred)})\n",
    "# Below code will append the above tmp2 series in model_report dataframe\n",
    "model_10 = models_report.append(tmp2, ignore_index = True)\n",
    "model_10"
   ]
  },
  {
   "cell_type": "markdown",
   "metadata": {},
   "source": [
    "### PCA"
   ]
  },
  {
   "cell_type": "code",
   "execution_count": 819,
   "metadata": {},
   "outputs": [],
   "source": [
    "from sklearn.decomposition import PCA\n",
    "pca = PCA(n_components = 23)\n",
    "X_pca = pca.fit_transform(X_scaled)"
   ]
  },
  {
   "cell_type": "code",
   "execution_count": 820,
   "metadata": {},
   "outputs": [
    {
     "data": {
      "text/html": [
       "<div>\n",
       "<style scoped>\n",
       "    .dataframe tbody tr th:only-of-type {\n",
       "        vertical-align: middle;\n",
       "    }\n",
       "\n",
       "    .dataframe tbody tr th {\n",
       "        vertical-align: top;\n",
       "    }\n",
       "\n",
       "    .dataframe thead th {\n",
       "        text-align: right;\n",
       "    }\n",
       "</style>\n",
       "<table border=\"1\" class=\"dataframe\">\n",
       "  <thead>\n",
       "    <tr style=\"text-align: right;\">\n",
       "      <th></th>\n",
       "      <th>PC1</th>\n",
       "      <th>PC2</th>\n",
       "      <th>PC3</th>\n",
       "      <th>PC4</th>\n",
       "      <th>PC5</th>\n",
       "      <th>PC6</th>\n",
       "      <th>PC7</th>\n",
       "      <th>PC8</th>\n",
       "      <th>PC9</th>\n",
       "      <th>PC10</th>\n",
       "      <th>PC11</th>\n",
       "      <th>PC12</th>\n",
       "      <th>PC13</th>\n",
       "      <th>PC14</th>\n",
       "      <th>PC15</th>\n",
       "      <th>PC16</th>\n",
       "      <th>PC17</th>\n",
       "      <th>PC18</th>\n",
       "      <th>PC19</th>\n",
       "      <th>PC20</th>\n",
       "      <th>PC21</th>\n",
       "      <th>PC22</th>\n",
       "      <th>PC23</th>\n",
       "    </tr>\n",
       "  </thead>\n",
       "  <tbody>\n",
       "    <tr>\n",
       "      <th>0</th>\n",
       "      <td>-0.007381</td>\n",
       "      <td>0.110741</td>\n",
       "      <td>-0.578217</td>\n",
       "      <td>-0.029895</td>\n",
       "      <td>0.924572</td>\n",
       "      <td>0.494226</td>\n",
       "      <td>0.147186</td>\n",
       "      <td>0.228731</td>\n",
       "      <td>0.476351</td>\n",
       "      <td>0.324697</td>\n",
       "      <td>0.192575</td>\n",
       "      <td>-0.071560</td>\n",
       "      <td>0.225435</td>\n",
       "      <td>0.376170</td>\n",
       "      <td>-0.239908</td>\n",
       "      <td>-0.022379</td>\n",
       "      <td>-0.505516</td>\n",
       "      <td>0.209261</td>\n",
       "      <td>-0.002171</td>\n",
       "      <td>0.587237</td>\n",
       "      <td>0.294932</td>\n",
       "      <td>-0.231678</td>\n",
       "      <td>0.385970</td>\n",
       "    </tr>\n",
       "    <tr>\n",
       "      <th>1</th>\n",
       "      <td>0.748963</td>\n",
       "      <td>-0.526344</td>\n",
       "      <td>0.220182</td>\n",
       "      <td>-0.328378</td>\n",
       "      <td>-0.257693</td>\n",
       "      <td>0.166486</td>\n",
       "      <td>0.345846</td>\n",
       "      <td>0.450119</td>\n",
       "      <td>0.525896</td>\n",
       "      <td>0.373292</td>\n",
       "      <td>0.132079</td>\n",
       "      <td>0.890498</td>\n",
       "      <td>-0.121642</td>\n",
       "      <td>0.792142</td>\n",
       "      <td>0.474702</td>\n",
       "      <td>-0.059077</td>\n",
       "      <td>-0.557347</td>\n",
       "      <td>-0.108503</td>\n",
       "      <td>0.473355</td>\n",
       "      <td>0.315575</td>\n",
       "      <td>0.041531</td>\n",
       "      <td>-0.180300</td>\n",
       "      <td>-0.054277</td>\n",
       "    </tr>\n",
       "    <tr>\n",
       "      <th>2</th>\n",
       "      <td>0.189567</td>\n",
       "      <td>0.274171</td>\n",
       "      <td>-0.355288</td>\n",
       "      <td>0.209174</td>\n",
       "      <td>0.954015</td>\n",
       "      <td>0.823197</td>\n",
       "      <td>0.829269</td>\n",
       "      <td>0.199245</td>\n",
       "      <td>-0.096312</td>\n",
       "      <td>0.239631</td>\n",
       "      <td>0.790289</td>\n",
       "      <td>-0.269458</td>\n",
       "      <td>-0.431214</td>\n",
       "      <td>0.582635</td>\n",
       "      <td>0.729742</td>\n",
       "      <td>-0.103010</td>\n",
       "      <td>-0.511814</td>\n",
       "      <td>-0.389305</td>\n",
       "      <td>-0.098313</td>\n",
       "      <td>0.059225</td>\n",
       "      <td>-0.192565</td>\n",
       "      <td>-0.231387</td>\n",
       "      <td>-0.153793</td>\n",
       "    </tr>\n",
       "    <tr>\n",
       "      <th>3</th>\n",
       "      <td>1.104042</td>\n",
       "      <td>0.348158</td>\n",
       "      <td>0.871468</td>\n",
       "      <td>-0.200069</td>\n",
       "      <td>-0.598732</td>\n",
       "      <td>0.470510</td>\n",
       "      <td>0.183830</td>\n",
       "      <td>0.061300</td>\n",
       "      <td>0.207523</td>\n",
       "      <td>-0.481461</td>\n",
       "      <td>-0.000577</td>\n",
       "      <td>-0.347119</td>\n",
       "      <td>0.109598</td>\n",
       "      <td>0.138158</td>\n",
       "      <td>-0.393732</td>\n",
       "      <td>0.046387</td>\n",
       "      <td>-0.532172</td>\n",
       "      <td>-0.061802</td>\n",
       "      <td>0.079256</td>\n",
       "      <td>-0.104234</td>\n",
       "      <td>0.036894</td>\n",
       "      <td>-0.119545</td>\n",
       "      <td>-0.022410</td>\n",
       "    </tr>\n",
       "    <tr>\n",
       "      <th>4</th>\n",
       "      <td>-0.041261</td>\n",
       "      <td>-0.636316</td>\n",
       "      <td>0.092363</td>\n",
       "      <td>-0.317750</td>\n",
       "      <td>0.105649</td>\n",
       "      <td>0.125264</td>\n",
       "      <td>0.042514</td>\n",
       "      <td>-0.401652</td>\n",
       "      <td>-0.872527</td>\n",
       "      <td>-0.203102</td>\n",
       "      <td>0.637239</td>\n",
       "      <td>-0.139182</td>\n",
       "      <td>-0.380330</td>\n",
       "      <td>0.114797</td>\n",
       "      <td>-0.143922</td>\n",
       "      <td>0.042500</td>\n",
       "      <td>-0.502512</td>\n",
       "      <td>0.315454</td>\n",
       "      <td>0.274603</td>\n",
       "      <td>-0.040651</td>\n",
       "      <td>-0.086184</td>\n",
       "      <td>0.414170</td>\n",
       "      <td>-0.034489</td>\n",
       "    </tr>\n",
       "  </tbody>\n",
       "</table>\n",
       "</div>"
      ],
      "text/plain": [
       "        PC1       PC2       PC3       PC4       PC5       PC6       PC7  \\\n",
       "0 -0.007381  0.110741 -0.578217 -0.029895  0.924572  0.494226  0.147186   \n",
       "1  0.748963 -0.526344  0.220182 -0.328378 -0.257693  0.166486  0.345846   \n",
       "2  0.189567  0.274171 -0.355288  0.209174  0.954015  0.823197  0.829269   \n",
       "3  1.104042  0.348158  0.871468 -0.200069 -0.598732  0.470510  0.183830   \n",
       "4 -0.041261 -0.636316  0.092363 -0.317750  0.105649  0.125264  0.042514   \n",
       "\n",
       "        PC8       PC9      PC10      PC11      PC12      PC13      PC14  \\\n",
       "0  0.228731  0.476351  0.324697  0.192575 -0.071560  0.225435  0.376170   \n",
       "1  0.450119  0.525896  0.373292  0.132079  0.890498 -0.121642  0.792142   \n",
       "2  0.199245 -0.096312  0.239631  0.790289 -0.269458 -0.431214  0.582635   \n",
       "3  0.061300  0.207523 -0.481461 -0.000577 -0.347119  0.109598  0.138158   \n",
       "4 -0.401652 -0.872527 -0.203102  0.637239 -0.139182 -0.380330  0.114797   \n",
       "\n",
       "       PC15      PC16      PC17      PC18      PC19      PC20      PC21  \\\n",
       "0 -0.239908 -0.022379 -0.505516  0.209261 -0.002171  0.587237  0.294932   \n",
       "1  0.474702 -0.059077 -0.557347 -0.108503  0.473355  0.315575  0.041531   \n",
       "2  0.729742 -0.103010 -0.511814 -0.389305 -0.098313  0.059225 -0.192565   \n",
       "3 -0.393732  0.046387 -0.532172 -0.061802  0.079256 -0.104234  0.036894   \n",
       "4 -0.143922  0.042500 -0.502512  0.315454  0.274603 -0.040651 -0.086184   \n",
       "\n",
       "       PC22      PC23  \n",
       "0 -0.231678  0.385970  \n",
       "1 -0.180300 -0.054277  \n",
       "2 -0.231387 -0.153793  \n",
       "3 -0.119545 -0.022410  \n",
       "4  0.414170 -0.034489  "
      ]
     },
     "execution_count": 820,
     "metadata": {},
     "output_type": "execute_result"
    }
   ],
   "source": [
    "cols = [\"PC\"+str(i) for i in range(1,24)]\n",
    "pc = pd.DataFrame(data=X_pca,columns=[*cols])\n",
    "pc.head()"
   ]
  },
  {
   "cell_type": "code",
   "execution_count": 848,
   "metadata": {},
   "outputs": [
    {
     "data": {
      "image/png": "[encoded data removed]",
      "text/plain": [
       "<Figure size 432x288 with 1 Axes>"
      ]
     },
     "metadata": {},
     "output_type": "display_data"
    }
   ],
   "source": [
    "plt.plot(np.cumsum(pca.explained_variance_ratio_))\n",
    "plt.xlabel('No. of Principal Components')\n",
    "plt.ylabel('Variance (%)')\n",
    "plt.title('Principal Components VS Variance (%) ')\n",
    "plt.show()"
   ]
  },
  {
   "cell_type": "code",
   "execution_count": 821,
   "metadata": {},
   "outputs": [],
   "source": [
    "from sklearn.model_selection import train_test_split\n",
    "X_train,X_test,y_train,y_test = train_test_split(pc,y,test_size = 0.25,random_state = 1)"
   ]
  },
  {
   "cell_type": "code",
   "execution_count": 822,
   "metadata": {},
   "outputs": [],
   "source": [
    "# Decision Tree Classifier after performing PCA\n",
    "from sklearn.tree import DecisionTreeClassifier\n",
    "model_base = DecisionTreeClassifier(criterion='entropy', random_state=1)\n",
    "model_base.fit(X_train,y_train)\n",
    "y_pred = model_base.predict(X_test)"
   ]
  },
  {
   "cell_type": "code",
   "execution_count": 824,
   "metadata": {},
   "outputs": [
    {
     "data": {
      "text/html": [
       "<div>\n",
       "<style scoped>\n",
       "    .dataframe tbody tr th:only-of-type {\n",
       "        vertical-align: middle;\n",
       "    }\n",
       "\n",
       "    .dataframe tbody tr th {\n",
       "        vertical-align: top;\n",
       "    }\n",
       "\n",
       "    .dataframe thead th {\n",
       "        text-align: right;\n",
       "    }\n",
       "</style>\n",
       "<table border=\"1\" class=\"dataframe\">\n",
       "  <thead>\n",
       "    <tr style=\"text-align: right;\">\n",
       "      <th></th>\n",
       "      <th>Model</th>\n",
       "      <th>ROC Score</th>\n",
       "      <th>Precision Score</th>\n",
       "      <th>Recall Score</th>\n",
       "      <th>Accuracy Score</th>\n",
       "      <th>Kappa Score</th>\n",
       "    </tr>\n",
       "  </thead>\n",
       "  <tbody>\n",
       "    <tr>\n",
       "      <th>0</th>\n",
       "      <td>Decision Tree PCA</td>\n",
       "      <td>0.79931</td>\n",
       "      <td>0.642633</td>\n",
       "      <td>0.650794</td>\n",
       "      <td>0.9104</td>\n",
       "      <td>0.595384</td>\n",
       "    </tr>\n",
       "  </tbody>\n",
       "</table>\n",
       "</div>"
      ],
      "text/plain": [
       "               Model  ROC Score  Precision Score  Recall Score  \\\n",
       "0  Decision Tree PCA    0.79931         0.642633      0.650794   \n",
       "\n",
       "   Accuracy Score  Kappa Score  \n",
       "0          0.9104     0.595384  "
      ]
     },
     "execution_count": 824,
     "metadata": {},
     "output_type": "execute_result"
    }
   ],
   "source": [
    "# Create a list of parameter \n",
    "cols = ['Model', 'ROC Score', 'Precision Score', 'Recall Score','Accuracy Score','Kappa Score']\n",
    "# Create a dataframe of the above list\n",
    "models_report = pd.DataFrame(columns = cols)\n",
    "# Create a result associated with the list mentioned above.\n",
    "tmp2 = pd.Series({'Model': \"Decision Tree PCA\",\n",
    "                 'ROC Score' : metrics.roc_auc_score(y_test, y_pred),\n",
    "                 'Precision Score': metrics.precision_score(y_test, y_pred),\n",
    "                 'Recall Score': metrics.recall_score(y_test, y_pred),\n",
    "                 'Accuracy Score': metrics.accuracy_score(y_test, y_pred),\n",
    "                 'Kappa Score':metrics.cohen_kappa_score(y_test, y_pred)})\n",
    "# Below code will append the above tmp2 series in model_report dataframe\n",
    "model_11 = models_report.append(tmp2, ignore_index = True)\n",
    "model_11"
   ]
  },
  {
   "cell_type": "code",
   "execution_count": 825,
   "metadata": {},
   "outputs": [],
   "source": [
    "# Random Forest Classifier after performing PCA\n",
    "from sklearn.ensemble import RandomForestClassifier\n",
    "#Create random tree classifier object\n",
    "model_rf = RandomForestClassifier(criterion = 'entropy',random_state=0)\n",
    "# Train Model\n",
    "model_rf.fit(X_train,y_train)\n",
    "# Predicting the model\n",
    "y_pred = model_rf.predict(X_test)"
   ]
  },
  {
   "cell_type": "code",
   "execution_count": 826,
   "metadata": {},
   "outputs": [
    {
     "data": {
      "text/html": [
       "<div>\n",
       "<style scoped>\n",
       "    .dataframe tbody tr th:only-of-type {\n",
       "        vertical-align: middle;\n",
       "    }\n",
       "\n",
       "    .dataframe tbody tr th {\n",
       "        vertical-align: top;\n",
       "    }\n",
       "\n",
       "    .dataframe thead th {\n",
       "        text-align: right;\n",
       "    }\n",
       "</style>\n",
       "<table border=\"1\" class=\"dataframe\">\n",
       "  <thead>\n",
       "    <tr style=\"text-align: right;\">\n",
       "      <th></th>\n",
       "      <th>Model</th>\n",
       "      <th>ROC Score</th>\n",
       "      <th>Precision Score</th>\n",
       "      <th>Recall Score</th>\n",
       "      <th>Accuracy Score</th>\n",
       "      <th>Kappa Score</th>\n",
       "    </tr>\n",
       "  </thead>\n",
       "  <tbody>\n",
       "    <tr>\n",
       "      <th>0</th>\n",
       "      <td>Random Forest</td>\n",
       "      <td>0.739661</td>\n",
       "      <td>0.935583</td>\n",
       "      <td>0.484127</td>\n",
       "      <td>0.9308</td>\n",
       "      <td>0.60405</td>\n",
       "    </tr>\n",
       "  </tbody>\n",
       "</table>\n",
       "</div>"
      ],
      "text/plain": [
       "           Model  ROC Score  Precision Score  Recall Score  Accuracy Score  \\\n",
       "0  Random Forest   0.739661         0.935583      0.484127          0.9308   \n",
       "\n",
       "   Kappa Score  \n",
       "0      0.60405  "
      ]
     },
     "execution_count": 826,
     "metadata": {},
     "output_type": "execute_result"
    }
   ],
   "source": [
    "# Create a list of parameter \n",
    "cols = ['Model', 'ROC Score', 'Precision Score', 'Recall Score','Accuracy Score','Kappa Score']\n",
    "# Create a dataframe of the above list\n",
    "models_report = pd.DataFrame(columns = cols)\n",
    "# Create a result associated with the list mentioned above.\n",
    "tmp2 = pd.Series({'Model': \"Random Forest\",\n",
    "                 'ROC Score' : metrics.roc_auc_score(y_test, y_pred),\n",
    "                 'Precision Score': metrics.precision_score(y_test, y_pred),\n",
    "                 'Recall Score': metrics.recall_score(y_test, y_pred),\n",
    "                 'Accuracy Score': metrics.accuracy_score(y_test, y_pred),\n",
    "                 'Kappa Score':metrics.cohen_kappa_score(y_test, y_pred)})\n",
    "# Below code will append the above tmp2 series in model_report dataframe\n",
    "model_12 = models_report.append(tmp2, ignore_index = True)\n",
    "model_12"
   ]
  },
  {
   "cell_type": "code",
   "execution_count": 827,
   "metadata": {},
   "outputs": [],
   "source": [
    "# XGBoost Classifier after performing PCA\n",
    "from xgboost import XGBClassifier\n",
    "# Create an object instance of XGB Classifier\n",
    "xg_model = XGBClassifier()\n",
    "# Create a train model\n",
    "xg_model.fit(X_train,y_train)\n",
    "# Predict on test data\n",
    "y_pred = xg_model.predict(X_test)"
   ]
  },
  {
   "cell_type": "code",
   "execution_count": 837,
   "metadata": {},
   "outputs": [
    {
     "data": {
      "text/html": [
       "<div>\n",
       "<style scoped>\n",
       "    .dataframe tbody tr th:only-of-type {\n",
       "        vertical-align: middle;\n",
       "    }\n",
       "\n",
       "    .dataframe tbody tr th {\n",
       "        vertical-align: top;\n",
       "    }\n",
       "\n",
       "    .dataframe thead th {\n",
       "        text-align: right;\n",
       "    }\n",
       "</style>\n",
       "<table border=\"1\" class=\"dataframe\">\n",
       "  <thead>\n",
       "    <tr style=\"text-align: right;\">\n",
       "      <th></th>\n",
       "      <th>Model</th>\n",
       "      <th>ROC Score</th>\n",
       "      <th>Precision Score</th>\n",
       "      <th>Recall Score</th>\n",
       "      <th>Accuracy Score</th>\n",
       "      <th>Kappa Score</th>\n",
       "    </tr>\n",
       "  </thead>\n",
       "  <tbody>\n",
       "    <tr>\n",
       "      <th>0</th>\n",
       "      <td>XGBoost</td>\n",
       "      <td>0.510196</td>\n",
       "      <td>0.636364</td>\n",
       "      <td>0.022222</td>\n",
       "      <td>0.8752</td>\n",
       "      <td>0.034737</td>\n",
       "    </tr>\n",
       "  </tbody>\n",
       "</table>\n",
       "</div>"
      ],
      "text/plain": [
       "     Model  ROC Score  Precision Score  Recall Score  Accuracy Score  \\\n",
       "0  XGBoost   0.510196         0.636364      0.022222          0.8752   \n",
       "\n",
       "   Kappa Score  \n",
       "0     0.034737  "
      ]
     },
     "execution_count": 837,
     "metadata": {},
     "output_type": "execute_result"
    }
   ],
   "source": [
    "# Create a list of parameter \n",
    "cols = ['Model', 'ROC Score', 'Precision Score', 'Recall Score','Accuracy Score','Kappa Score']\n",
    "# Create a dataframe of the above list\n",
    "models_report = pd.DataFrame(columns = cols)\n",
    "# Create a result associated with the list mentioned above.\n",
    "tmp2 = pd.Series({'Model': \"XGBoost\",\n",
    "                 'ROC Score' : metrics.roc_auc_score(y_test, y_pred),\n",
    "                 'Precision Score': metrics.precision_score(y_test, y_pred),\n",
    "                 'Recall Score': metrics.recall_score(y_test, y_pred),\n",
    "                 'Accuracy Score': metrics.accuracy_score(y_test, y_pred),\n",
    "                 'Kappa Score':metrics.cohen_kappa_score(y_test, y_pred)})\n",
    "# Below code will append the above tmp2 series in model_report dataframe\n",
    "model_13 = models_report.append(tmp2, ignore_index = True)\n",
    "model_13"
   ]
  },
  {
   "cell_type": "code",
   "execution_count": 841,
   "metadata": {},
   "outputs": [],
   "source": [
    "# Create a list of parameter \n",
    "cols = ['Model', 'ROC Score', 'Precision Score', 'Recall Score','Accuracy Score','Kappa Score']\n",
    "model = pd.DataFrame(columns=cols)\n",
    "model = model.append([model_1,model_2,model_3,model_4,model_5,model_6,model_7,model_8,model_9,model_10,\n",
    "                     model_11,model_12,model_13],ignore_index=True)"
   ]
  },
  {
   "cell_type": "code",
   "execution_count": 842,
   "metadata": {},
   "outputs": [
    {
     "data": {
      "text/html": [
       "<div>\n",
       "<style scoped>\n",
       "    .dataframe tbody tr th:only-of-type {\n",
       "        vertical-align: middle;\n",
       "    }\n",
       "\n",
       "    .dataframe tbody tr th {\n",
       "        vertical-align: top;\n",
       "    }\n",
       "\n",
       "    .dataframe thead th {\n",
       "        text-align: right;\n",
       "    }\n",
       "</style>\n",
       "<table border=\"1\" class=\"dataframe\">\n",
       "  <thead>\n",
       "    <tr style=\"text-align: right;\">\n",
       "      <th></th>\n",
       "      <th>Model</th>\n",
       "      <th>ROC Score</th>\n",
       "      <th>Precision Score</th>\n",
       "      <th>Recall Score</th>\n",
       "      <th>Accuracy Score</th>\n",
       "      <th>Kappa Score</th>\n",
       "    </tr>\n",
       "  </thead>\n",
       "  <tbody>\n",
       "    <tr>\n",
       "      <th>0</th>\n",
       "      <td>Decision Tree with Entropy</td>\n",
       "      <td>0.867153</td>\n",
       "      <td>0.745185</td>\n",
       "      <td>0.773846</td>\n",
       "      <td>0.9362</td>\n",
       "      <td>0.722488</td>\n",
       "    </tr>\n",
       "    <tr>\n",
       "      <th>1</th>\n",
       "      <td>Random Forest</td>\n",
       "      <td>0.809390</td>\n",
       "      <td>0.971154</td>\n",
       "      <td>0.621538</td>\n",
       "      <td>0.9484</td>\n",
       "      <td>0.730644</td>\n",
       "    </tr>\n",
       "    <tr>\n",
       "      <th>2</th>\n",
       "      <td>XGBoost</td>\n",
       "      <td>0.539390</td>\n",
       "      <td>0.815385</td>\n",
       "      <td>0.081538</td>\n",
       "      <td>0.8782</td>\n",
       "      <td>0.127632</td>\n",
       "    </tr>\n",
       "    <tr>\n",
       "      <th>3</th>\n",
       "      <td>Decision Tree with UV</td>\n",
       "      <td>0.880292</td>\n",
       "      <td>0.788668</td>\n",
       "      <td>0.792308</td>\n",
       "      <td>0.9454</td>\n",
       "      <td>0.759094</td>\n",
       "    </tr>\n",
       "    <tr>\n",
       "      <th>4</th>\n",
       "      <td>Decision Tree Grid Search</td>\n",
       "      <td>0.881485</td>\n",
       "      <td>0.785714</td>\n",
       "      <td>0.795385</td>\n",
       "      <td>0.9452</td>\n",
       "      <td>0.758998</td>\n",
       "    </tr>\n",
       "    <tr>\n",
       "      <th>5</th>\n",
       "      <td>Decision Tree Random Search</td>\n",
       "      <td>0.880292</td>\n",
       "      <td>0.788668</td>\n",
       "      <td>0.792308</td>\n",
       "      <td>0.9454</td>\n",
       "      <td>0.759094</td>\n",
       "    </tr>\n",
       "    <tr>\n",
       "      <th>6</th>\n",
       "      <td>Random Forest with UV</td>\n",
       "      <td>0.835234</td>\n",
       "      <td>0.982022</td>\n",
       "      <td>0.672308</td>\n",
       "      <td>0.9558</td>\n",
       "      <td>0.774329</td>\n",
       "    </tr>\n",
       "    <tr>\n",
       "      <th>7</th>\n",
       "      <td>Random Forest using Random Search</td>\n",
       "      <td>0.538506</td>\n",
       "      <td>0.800000</td>\n",
       "      <td>0.080000</td>\n",
       "      <td>0.8778</td>\n",
       "      <td>0.124767</td>\n",
       "    </tr>\n",
       "    <tr>\n",
       "      <th>8</th>\n",
       "      <td>Random Forest with BaggingClassifier</td>\n",
       "      <td>0.792078</td>\n",
       "      <td>0.994764</td>\n",
       "      <td>0.584615</td>\n",
       "      <td>0.9456</td>\n",
       "      <td>0.708367</td>\n",
       "    </tr>\n",
       "    <tr>\n",
       "      <th>9</th>\n",
       "      <td>XGBoost</td>\n",
       "      <td>0.524271</td>\n",
       "      <td>0.914286</td>\n",
       "      <td>0.049231</td>\n",
       "      <td>0.8758</td>\n",
       "      <td>0.081225</td>\n",
       "    </tr>\n",
       "    <tr>\n",
       "      <th>10</th>\n",
       "      <td>Decision Tree PCA</td>\n",
       "      <td>0.799310</td>\n",
       "      <td>0.642633</td>\n",
       "      <td>0.650794</td>\n",
       "      <td>0.9104</td>\n",
       "      <td>0.595384</td>\n",
       "    </tr>\n",
       "    <tr>\n",
       "      <th>11</th>\n",
       "      <td>Random Forest</td>\n",
       "      <td>0.739661</td>\n",
       "      <td>0.935583</td>\n",
       "      <td>0.484127</td>\n",
       "      <td>0.9308</td>\n",
       "      <td>0.604050</td>\n",
       "    </tr>\n",
       "    <tr>\n",
       "      <th>12</th>\n",
       "      <td>XGBoost</td>\n",
       "      <td>0.510196</td>\n",
       "      <td>0.636364</td>\n",
       "      <td>0.022222</td>\n",
       "      <td>0.8752</td>\n",
       "      <td>0.034737</td>\n",
       "    </tr>\n",
       "  </tbody>\n",
       "</table>\n",
       "</div>"
      ],
      "text/plain": [
       "                                     Model  ROC Score  Precision Score  \\\n",
       "0              Decision Tree with Entropy    0.867153         0.745185   \n",
       "1                            Random Forest   0.809390         0.971154   \n",
       "2                                  XGBoost   0.539390         0.815385   \n",
       "3                   Decision Tree with UV    0.880292         0.788668   \n",
       "4               Decision Tree Grid Search    0.881485         0.785714   \n",
       "5              Decision Tree Random Search   0.880292         0.788668   \n",
       "6                   Random Forest with UV    0.835234         0.982022   \n",
       "7       Random Forest using Random Search    0.538506         0.800000   \n",
       "8    Random Forest with BaggingClassifier    0.792078         0.994764   \n",
       "9                                  XGBoost   0.524271         0.914286   \n",
       "10                       Decision Tree PCA   0.799310         0.642633   \n",
       "11                           Random Forest   0.739661         0.935583   \n",
       "12                                 XGBoost   0.510196         0.636364   \n",
       "\n",
       "    Recall Score  Accuracy Score  Kappa Score  \n",
       "0       0.773846          0.9362     0.722488  \n",
       "1       0.621538          0.9484     0.730644  \n",
       "2       0.081538          0.8782     0.127632  \n",
       "3       0.792308          0.9454     0.759094  \n",
       "4       0.795385          0.9452     0.758998  \n",
       "5       0.792308          0.9454     0.759094  \n",
       "6       0.672308          0.9558     0.774329  \n",
       "7       0.080000          0.8778     0.124767  \n",
       "8       0.584615          0.9456     0.708367  \n",
       "9       0.049231          0.8758     0.081225  \n",
       "10      0.650794          0.9104     0.595384  \n",
       "11      0.484127          0.9308     0.604050  \n",
       "12      0.022222          0.8752     0.034737  "
      ]
     },
     "execution_count": 842,
     "metadata": {},
     "output_type": "execute_result"
    }
   ],
   "source": [
    "model"
   ]
  },
  {
   "cell_type": "markdown",
   "metadata": {},
   "source": [
    "#### Conclusion\n",
    "Here, we can conclude that Random Forest Classifier with feature selection was performing better than all other model, so we can use this classifier for prediction.\n",
    "The accuracy of this model was 95.58%"
   ]
  }
 ],
 "metadata": {
  "kernelspec": {
   "display_name": "Python 3",
   "language": "python",
   "name": "python3"
  },
  "language_info": {
   "codemirror_mode": {
    "name": "ipython",
    "version": 3
   },
   "file_extension": ".py",
   "mimetype": "text/x-python",
   "name": "python",
   "nbconvert_exporter": "python",
   "pygments_lexer": "ipython3",
   "version": "3.7.3"
  }
 },
 "nbformat": 4,
 "nbformat_minor": 2
}
